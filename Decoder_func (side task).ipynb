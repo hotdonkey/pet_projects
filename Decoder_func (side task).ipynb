{
 "cells": [
  {
   "cell_type": "code",
   "execution_count": 2,
   "metadata": {},
   "outputs": [
    {
     "data": {
      "text/plain": [
       "'d'"
      ]
     },
     "execution_count": 2,
     "metadata": {},
     "output_type": "execute_result"
    }
   ],
   "source": [
    "test_string = 'ssbbbsssbcssssws'\n",
    "\n",
    "def decoder_func(text_string):\n",
    "    '''Function for decoding a string by finding\n",
    "    the highest meaning of the sequense of 's' letters'''\n",
    "    \n",
    "    def decoder_inner(text_string):\n",
    "        alphabet = 'abcdefghijklmnopqrstuvwxyz'                         #alphabet for decoding\n",
    "        alphabet_index = [x for x in range(1,len(alphabet)+1)]\n",
    "        alphabet_dict = dict(zip(alphabet_index, alphabet))\n",
    "        \n",
    "        decoder = [x for x in text_string]                              #decoding list which contains commulitive meaning of s and not s\n",
    "        counter = 0\n",
    "        counter_list = []\n",
    "        \n",
    "        for x in decoder:                                               #this logic put the value of counter into the empty list\n",
    "            if x == 's':                                                #and assigning 0 when finding not 's'\n",
    "                counter += 1\n",
    "                counter_list.append(counter)      \n",
    "            else:\n",
    "                counter = 0\n",
    "                counter_list.append(counter)\n",
    "        return alphabet_dict[max(counter_list)]                         #at the end it takes the maximum value of the list as a key in decoding dict\n",
    "    \n",
    "    try:\n",
    "        decoder_inner(text_string)\n",
    "    except TypeError:                                                   #check for variable type\n",
    "        print('It should be a string you morron')\n",
    "        return None\n",
    "    except KeyError:                                                    #check for the lenght of encoded letter in the variable\n",
    "        print('Too much s you dickhead')\n",
    "        return None\n",
    "    \n",
    "    return decoder_inner(text_string)\n",
    "\n",
    "\n",
    "decoder_func(test_string)"
   ]
  },
  {
   "cell_type": "code",
   "execution_count": null,
   "metadata": {},
   "outputs": [],
   "source": []
  }
 ],
 "metadata": {
  "kernelspec": {
   "display_name": "Python 3.10.6 64-bit",
   "language": "python",
   "name": "python3"
  },
  "language_info": {
   "codemirror_mode": {
    "name": "ipython",
    "version": 3
   },
   "file_extension": ".py",
   "mimetype": "text/x-python",
   "name": "python",
   "nbconvert_exporter": "python",
   "pygments_lexer": "ipython3",
   "version": "3.10.6"
  },
  "orig_nbformat": 4,
  "vscode": {
   "interpreter": {
    "hash": "27b4a17af713f464e4f7b4da81cd20c20d6cf4af2f1712b81a84a456da04343d"
   }
  }
 },
 "nbformat": 4,
 "nbformat_minor": 2
}
