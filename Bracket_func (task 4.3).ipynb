{
 "cells": [
  {
   "cell_type": "code",
   "execution_count": null,
   "metadata": {},
   "outputs": [
    {
     "ename": "",
     "evalue": "",
     "output_type": "error",
     "traceback": [
      "\u001b[1;31mFailed to start the Kernel. \n",
      "\u001b[1;31mKernel Python 3.11.1 is not usable. Check the Jupyter output tab for more information. \n",
      "\u001b[1;31mView Jupyter <a href='command:jupyter.viewOutput'>log</a> for further details."
     ]
    }
   ],
   "source": [
    "#Bracket order function\n",
    "\n",
    "from collections import deque\n",
    "from re import L\n",
    "\n",
    "def brackets(line):\n",
    "    \n",
    "    if len(line) == 0:                            #empty line check\n",
    "        return True\n",
    "    \n",
    "    elif line[0] == ')':                          #wrong bracket chek\n",
    "        return False\n",
    "    \n",
    "    else:\n",
    "        line_stack = deque(line[0])\n",
    "\n",
    "        try:                                      #simple logic that creates object 'deque' and starting to\n",
    "            for element in line[1:] :             #put elements from the line\n",
    "                if element in line_stack:\n",
    "                    line_stack.append(element)\n",
    "                \n",
    "                else:                             #if the new element is not in the deque i.e. we found the first\n",
    "                    line_stack.pop()              #entrance of closing bracket in sequence and we're starting\n",
    "            if line_stack == deque([]):           #to withdraw opening brackets from the deque\n",
    "                return True                       #if deque is empty than the whole sequnce was correct\n",
    "            else:\n",
    "                line_stack != deque([])           #otherwise the sequence was wrong all along \n",
    "                return False    \n",
    "            \n",
    "        except IndexError:                        #if we intercept an error thus we found a wrong bracket Grat success\n",
    "            return False    \n",
    "        \n",
    "\n",
    "\n",
    "print(brackets(\"(()())\"))\n",
    "print(brackets(\"\"))\n",
    "print(brackets(\"(()()))\"))\n",
    "print(brackets(\"((((\"))\n",
    "print(brackets('(())()'))\n"
   ]
  },
  {
   "cell_type": "code",
   "execution_count": 1,
   "metadata": {},
   "outputs": [
    {
     "name": "stdout",
     "output_type": "stream",
     "text": [
      "True\n",
      "True\n",
      "False\n",
      "False\n",
      "True\n",
      "True\n",
      "True\n"
     ]
    }
   ],
   "source": [
    "#Bracket order function (full variant)\n",
    "from collections import deque\n",
    "from re import L\n",
    "\n",
    "def brackets(line):\n",
    "    \n",
    "    if len(line) == 0:                            #empty line check\n",
    "        return True\n",
    "    \n",
    "    elif line[0] == ')':                          #wrong bracket chek\n",
    "        return False\n",
    "    \n",
    "    else:\n",
    "        line_stack = deque(line[0])\n",
    "        line_stack_counter = deque(line[1:])\n",
    "        \n",
    "        try:                                      #simple logic that creates object 'deque' and starting to\n",
    "            for element in line[1:] :             #put elements from the line \n",
    "                if element in line_stack:\n",
    "                    line_stack.append(element)\n",
    "                    line_stack_counter.popleft()\n",
    "\n",
    "                elif line_stack == deque([]) and line_stack_counter != deque([]):    #hello darkness my old friend\n",
    "                    line_stack = deque(line_stack_counter[0])                        #this and next step** below is so stupid\n",
    "                \n",
    "                else:                             #if the new element is not in the deque i.e. we found the first\n",
    "                    line_stack.pop()              #entrance of closing bracket in sequence and we're starting\n",
    "                    line_stack_counter.popleft()                              #to withdraw opening brackets from the deque\n",
    "                            \n",
    "            \n",
    "            if line_stack == deque([]):           #if deque is empty than the whole sequnce was correct\n",
    "                return True \n",
    "            \n",
    "            elif line_stack_counter == deque(['(', ')']):          #**hey until it's work it's fine... yeah?\n",
    "                return True\n",
    "\n",
    "            else:\n",
    "                line_stack != deque([])           #otherwise the sequence was wrong all along \n",
    "                return False    \n",
    "            \n",
    "        except IndexError:                        #if we intercept an error thus we found a wrong bracket Grat success\n",
    "            return False    \n",
    "        \n",
    "\n",
    "print(brackets(\"(()())\"))\n",
    "print(brackets(\"\"))\n",
    "print(brackets(\"(()()))\"))\n",
    "print(brackets(\"((((\"))\n",
    "print(brackets('(())()'))\n",
    "print(brackets('(())()()()()'))\n",
    "print(brackets('(())()(())'))"
   ]
  },
  {
   "cell_type": "code",
   "execution_count": null,
   "metadata": {},
   "outputs": [],
   "source": []
  }
 ],
 "metadata": {
  "kernelspec": {
   "display_name": "ds",
   "language": "python",
   "name": "python3"
  },
  "language_info": {
   "codemirror_mode": {
    "name": "ipython",
    "version": 3
   },
   "file_extension": ".py",
   "mimetype": "text/x-python",
   "name": "python",
   "nbconvert_exporter": "python",
   "pygments_lexer": "ipython3",
   "version": "3.11.0"
  },
  "orig_nbformat": 4,
  "vscode": {
   "interpreter": {
    "hash": "d40a6ae76423cf5fae73028028fb017d8630dd167584993d74bc99181da5a036"
   }
  }
 },
 "nbformat": 4,
 "nbformat_minor": 2
}
