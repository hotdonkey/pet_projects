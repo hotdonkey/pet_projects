{
 "cells": [
  {
   "cell_type": "code",
   "execution_count": 5,
   "metadata": {},
   "outputs": [],
   "source": [
    "from googletrans import Translator\n",
    "from afinn import Afinn\n",
    "import pandas as pd"
   ]
  },
  {
   "cell_type": "code",
   "execution_count": 6,
   "metadata": {},
   "outputs": [],
   "source": [
    "news = pd.read_excel('../data/sentiment_base.xlsx')"
   ]
  },
  {
   "cell_type": "code",
   "execution_count": 5,
   "metadata": {},
   "outputs": [
    {
     "data": {
      "text/html": [
       "<div>\n",
       "<style scoped>\n",
       "    .dataframe tbody tr th:only-of-type {\n",
       "        vertical-align: middle;\n",
       "    }\n",
       "\n",
       "    .dataframe tbody tr th {\n",
       "        vertical-align: top;\n",
       "    }\n",
       "\n",
       "    .dataframe thead th {\n",
       "        text-align: right;\n",
       "    }\n",
       "</style>\n",
       "<table border=\"1\" class=\"dataframe\">\n",
       "  <thead>\n",
       "    <tr style=\"text-align: right;\">\n",
       "      <th></th>\n",
       "      <th>text_body</th>\n",
       "    </tr>\n",
       "  </thead>\n",
       "  <tbody>\n",
       "    <tr>\n",
       "      <th>0</th>\n",
       "      <td>«Электрокабель» приобрел компьютеры для Кольчу...</td>\n",
       "    </tr>\n",
       "    <tr>\n",
       "      <th>1</th>\n",
       "      <td>Спорт-лидер - это круто!\\nКоммунар - Kommunar9...</td>\n",
       "    </tr>\n",
       "    <tr>\n",
       "      <th>2</th>\n",
       "      <td>Новый и очень редкий экспонат появился в колле...</td>\n",
       "    </tr>\n",
       "    <tr>\n",
       "      <th>3</th>\n",
       "      <td>Вести. Урал Новый и очень редкий экспонат появ...</td>\n",
       "    </tr>\n",
       "    <tr>\n",
       "      <th>4</th>\n",
       "      <td>НОВЫЙ И ОЧЕНЬ РЕДКИЙ ЭКСПОНАТ ПОЯВИЛСЯ В КОЛЛЕ...</td>\n",
       "    </tr>\n",
       "  </tbody>\n",
       "</table>\n",
       "</div>"
      ],
      "text/plain": [
       "                                           text_body\n",
       "0  «Электрокабель» приобрел компьютеры для Кольчу...\n",
       "1  Спорт-лидер - это круто!\\nКоммунар - Kommunar9...\n",
       "2  Новый и очень редкий экспонат появился в колле...\n",
       "3  Вести. Урал Новый и очень редкий экспонат появ...\n",
       "4  НОВЫЙ И ОЧЕНЬ РЕДКИЙ ЭКСПОНАТ ПОЯВИЛСЯ В КОЛЛЕ..."
      ]
     },
     "execution_count": 5,
     "metadata": {},
     "output_type": "execute_result"
    }
   ],
   "source": [
    "news.head()"
   ]
  },
  {
   "cell_type": "code",
   "execution_count": 5,
   "metadata": {},
   "outputs": [],
   "source": [
    "translator = Translator(service_urls=['translate.googleapis.com'])\n",
    "afinn = Afinn()"
   ]
  },
  {
   "cell_type": "code",
   "execution_count": 8,
   "metadata": {},
   "outputs": [],
   "source": [
    "def text_analizer(news_text):\n",
    "    \n",
    "    def text_splitter(text):\n",
    "        list_of_news = []\n",
    "        itterations = len(text)//3000\n",
    "        samle_size = len(text)\n",
    "        sample_tail = len(text)%3000\n",
    "        \n",
    "        for i in range (0, itterations):\n",
    "            str_to_remove = text[:3000]\n",
    "            list_of_news.append(str_to_remove)\n",
    "            text.replace(str_to_remove,'')\n",
    "        list_of_news.append(text[samle_size-sample_tail:samle_size])\n",
    "        \n",
    "        return list_of_news\n",
    "    \n",
    "    def text_translator(list_of_news):\n",
    "        news_en = []\n",
    "        for i in list_of_news:\n",
    "            news_en.append(translator.translate(i, lang_tgt='en').text)\n",
    "        return news_en\n",
    "    \n",
    "    def text_scoring(news_en):\n",
    "        news_string = ' '.join(news_en)\n",
    "        return afinn.score(news_string)\n",
    "    \n",
    "    first_step = text_splitter(news_text)\n",
    "    second_step = text_translator(first_step)\n",
    "    final_step = text_scoring(second_step)\n",
    "    \n",
    "    return final_step"
   ]
  },
  {
   "cell_type": "code",
   "execution_count": 9,
   "metadata": {},
   "outputs": [],
   "source": [
    "news['score'] = news['text_body'].apply(text_analizer)"
   ]
  },
  {
   "cell_type": "code",
   "execution_count": 10,
   "metadata": {},
   "outputs": [
    {
     "data": {
      "text/html": [
       "<div>\n",
       "<style scoped>\n",
       "    .dataframe tbody tr th:only-of-type {\n",
       "        vertical-align: middle;\n",
       "    }\n",
       "\n",
       "    .dataframe tbody tr th {\n",
       "        vertical-align: top;\n",
       "    }\n",
       "\n",
       "    .dataframe thead th {\n",
       "        text-align: right;\n",
       "    }\n",
       "</style>\n",
       "<table border=\"1\" class=\"dataframe\">\n",
       "  <thead>\n",
       "    <tr style=\"text-align: right;\">\n",
       "      <th></th>\n",
       "      <th>text_body</th>\n",
       "      <th>score</th>\n",
       "    </tr>\n",
       "  </thead>\n",
       "  <tbody>\n",
       "    <tr>\n",
       "      <th>0</th>\n",
       "      <td>«Электрокабель» приобрел компьютеры для Кольчу...</td>\n",
       "      <td>8.0</td>\n",
       "    </tr>\n",
       "    <tr>\n",
       "      <th>1</th>\n",
       "      <td>Спорт-лидер - это круто!\\nКоммунар - Kommunar9...</td>\n",
       "      <td>11.0</td>\n",
       "    </tr>\n",
       "    <tr>\n",
       "      <th>2</th>\n",
       "      <td>Новый и очень редкий экспонат появился в колле...</td>\n",
       "      <td>18.0</td>\n",
       "    </tr>\n",
       "    <tr>\n",
       "      <th>3</th>\n",
       "      <td>Вести. Урал Новый и очень редкий экспонат появ...</td>\n",
       "      <td>3.0</td>\n",
       "    </tr>\n",
       "    <tr>\n",
       "      <th>4</th>\n",
       "      <td>НОВЫЙ И ОЧЕНЬ РЕДКИЙ ЭКСПОНАТ ПОЯВИЛСЯ В КОЛЛЕ...</td>\n",
       "      <td>29.0</td>\n",
       "    </tr>\n",
       "  </tbody>\n",
       "</table>\n",
       "</div>"
      ],
      "text/plain": [
       "                                           text_body  score\n",
       "0  «Электрокабель» приобрел компьютеры для Кольчу...    8.0\n",
       "1  Спорт-лидер - это круто!\\nКоммунар - Kommunar9...   11.0\n",
       "2  Новый и очень редкий экспонат появился в колле...   18.0\n",
       "3  Вести. Урал Новый и очень редкий экспонат появ...    3.0\n",
       "4  НОВЫЙ И ОЧЕНЬ РЕДКИЙ ЭКСПОНАТ ПОЯВИЛСЯ В КОЛЛЕ...   29.0"
      ]
     },
     "execution_count": 10,
     "metadata": {},
     "output_type": "execute_result"
    }
   ],
   "source": [
    "news.head()"
   ]
  },
  {
   "cell_type": "code",
   "execution_count": 11,
   "metadata": {},
   "outputs": [],
   "source": [
    "with pd.ExcelWriter(\n",
    "            \"./data/sentiment_score.xlsx\") as writer:\n",
    "        news.to_excel(writer, sheet_name='score')"
   ]
  },
  {
   "attachments": {},
   "cell_type": "markdown",
   "metadata": {},
   "source": [
    "---"
   ]
  },
  {
   "cell_type": "code",
   "execution_count": 6,
   "metadata": {},
   "outputs": [
    {
     "data": {
      "text/plain": [
       "'Спорт-лидер - это круто!\\nКоммунар - Kommunar96.ru (Туринская Слобода) , 2.1.2023\\nВо Дворце спорта Уральской горно-металлургической компании города Верхняя Пышма прошло торжественное мероприятие по подведению итогов рейтинга. В течение года для спорт-лидеров была проведена серия мероприятий в социальных сетях в рамках реализации инновационного проекта «Спорт-лидер» национального проекта «Демография».\\nПо итогам участия был сформирован рейтинг и определены десять лучших спорт-лидеров, набравших наибольшее количество баллов.\\nВ десятку лучших попал и наш земляк - Ярослав Спицын из Слободо-Туринской школы 1. Его наставником является Алевтина Николаевна Волобуева (на снимке).\\nВ рамках мероприятия все участники посетили планетарий на базе музея военной техники УГМК, баскетбольный матч во Дворце спорта УГМК и в торжественной обстановке были награждены Дипломами и Благодарственными письмами.\\n'"
      ]
     },
     "execution_count": 6,
     "metadata": {},
     "output_type": "execute_result"
    }
   ],
   "source": [
    "news['text_body'][1]"
   ]
  },
  {
   "cell_type": "code",
   "execution_count": 9,
   "metadata": {},
   "outputs": [
    {
     "data": {
      "text/plain": [
       "0.0"
      ]
     },
     "execution_count": 9,
     "metadata": {},
     "output_type": "execute_result"
    }
   ],
   "source": [
    "# the following installations are required\n",
    "# python -m textblob.download_corpora\n",
    "# python -m spacy download en_core_web_sm\n",
    "# ru_core_news_lg\n",
    "\n",
    "import spacy\n",
    "from spacytextblob.spacytextblob import SpacyTextBlob\n",
    "\n",
    "nlp = spacy.load('ru_core_news_lg')\n",
    "nlp.add_pipe('spacytextblob')\n",
    "text = news['text_body'][10]\n",
    "doc = nlp(text)\n",
    "doc._.blob.polarity                            # Polarity: -0.125\n",
    "#doc._.blob.subjectivity                        # Subjectivity: 0.9\n",
    "#doc._.blob.sentiment_assessments.assessments   # Assessments: [(['really', 'horrible'], -1.0, 1.0, None), (['worst', '!'], -1.0, 1.0, None), (['really', 'good'], 0.7, 0.6000000000000001, None), (['happy'], 0.8, 1.0, None)]\n",
    "#doc._.blob.ngrams()                            # [WordList(['I', 'had', 'a']), WordList(['had', 'a', 'really']), WordList(['a', 'really', 'horrible']), WordList(['really', 'horrible', 'day']), WordList(['horrible', 'day', 'It']), WordList(['day', 'It', 'was']), WordList(['It', 'was', 'the']), WordList(['was', 'the', 'worst']), WordList(['the', 'worst', 'day']), WordList(['worst', 'day', 'ever']), WordList(['day', 'ever', 'But']), WordList(['ever', 'But', 'every']), WordList(['But', 'every', 'now']), WordList(['every', 'now', 'and']), WordList(['now', 'and', 'then']), WordList(['and', 'then', 'I']), WordList(['then', 'I', 'have']), WordList(['I', 'have', 'a']), WordList(['have', 'a', 'really']), WordList(['a', 'really', 'good']), WordList(['really', 'good', 'day']), WordList(['good', 'day', 'that']), WordList(['day', 'that', 'makes']), WordList(['that', 'makes', 'me']), WordList(['makes', 'me', 'happy'])]\n"
   ]
  },
  {
   "cell_type": "code",
   "execution_count": null,
   "metadata": {},
   "outputs": [],
   "source": []
  }
 ],
 "metadata": {
  "kernelspec": {
   "display_name": "ds",
   "language": "python",
   "name": "python3"
  },
  "language_info": {
   "codemirror_mode": {
    "name": "ipython",
    "version": 3
   },
   "file_extension": ".py",
   "mimetype": "text/x-python",
   "name": "python",
   "nbconvert_exporter": "python",
   "pygments_lexer": "ipython3",
   "version": "3.11.0"
  },
  "orig_nbformat": 4,
  "vscode": {
   "interpreter": {
    "hash": "d40a6ae76423cf5fae73028028fb017d8630dd167584993d74bc99181da5a036"
   }
  }
 },
 "nbformat": 4,
 "nbformat_minor": 2
}
