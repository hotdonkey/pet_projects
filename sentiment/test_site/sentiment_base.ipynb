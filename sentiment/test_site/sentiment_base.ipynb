{
 "cells": [
  {
   "cell_type": "code",
   "execution_count": 1,
   "metadata": {},
   "outputs": [],
   "source": [
    "from afinn import Afinn"
   ]
  },
  {
   "cell_type": "code",
   "execution_count": 2,
   "metadata": {},
   "outputs": [],
   "source": [
    "afinn = Afinn()"
   ]
  },
  {
   "cell_type": "code",
   "execution_count": 3,
   "metadata": {},
   "outputs": [
    {
     "data": {
      "text/plain": [
       "-5.0"
      ]
     },
     "execution_count": 3,
     "metadata": {},
     "output_type": "execute_result"
    }
   ],
   "source": [
    "afinn.score('The war is going greate, the infrastructure damage is astonishing child corpses are beautifull')"
   ]
  },
  {
   "cell_type": "code",
   "execution_count": 1,
   "metadata": {},
   "outputs": [],
   "source": [
    "import requests\n",
    "from bs4 import BeautifulSoup\n",
    "from dostoevsky.tokenization import RegexTokenizer\n",
    "from dostoevsky.models import FastTextSocialNetworkModel"
   ]
  },
  {
   "cell_type": "code",
   "execution_count": 9,
   "metadata": {},
   "outputs": [],
   "source": [
    "url = 'https://www.vedomosti.ru/business/articles/2023/02/01/961283-ugmk-top-menedzhera-petropavlovsk'\n",
    "response = requests.get(url)"
   ]
  },
  {
   "cell_type": "code",
   "execution_count": 19,
   "metadata": {},
   "outputs": [],
   "source": [
    "article = []\n",
    "soup = BeautifulSoup(response.text)\n",
    "text = soup.findAll('p', class_='box-paragraph__text')\n",
    "for string in text:\n",
    "    article.append(string.text)\n",
    "full_article = ' '.join(article)"
   ]
  },
  {
   "cell_type": "code",
   "execution_count": 24,
   "metadata": {},
   "outputs": [
    {
     "name": "stderr",
     "output_type": "stream",
     "text": [
      "Warning : `load_model` does not return WordVectorModel or SupervisedModel any more, but a `FastText` object which is very similar.\n"
     ]
    },
    {
     "data": {
      "text/plain": [
       "{'neutral': 0.754925012588501, 'negative': 0.13297423720359802}"
      ]
     },
     "execution_count": 24,
     "metadata": {},
     "output_type": "execute_result"
    }
   ],
   "source": [
    "tokenizer = RegexTokenizer()\n",
    "tokens = tokenizer.split('всё очень плохо')  # [('всё', None), ('очень', None), ('плохо', None)]\n",
    "\n",
    "model = FastTextSocialNetworkModel(tokenizer=tokenizer)\n",
    "\n",
    "messages = [full_article]\n",
    "\n",
    "results = model.predict(messages, k=2)\n",
    "\n",
    "#for message, sentiment in zip(messages, results):\n",
    "#    print(message, '->', sentiment)\n",
    "sentiment"
   ]
  },
  {
   "cell_type": "code",
   "execution_count": 2,
   "metadata": {},
   "outputs": [],
   "source": [
    "import requests\n",
    "from bs4 import BeautifulSoup\n",
    "from dostoevsky.tokenization import RegexTokenizer\n",
    "from dostoevsky.models import FastTextSocialNetworkModel"
   ]
  },
  {
   "cell_type": "code",
   "execution_count": 2,
   "metadata": {},
   "outputs": [],
   "source": [
    "text_1 = '''\n",
    "Уральское управление Ростехнадзора выявило нарушения в области промышленной безопасности на объектах АО «Уралэлектромедь» \n",
    "Уральское управление Федеральной службы по экологическому, технологическому и атомному надзору (Ростехнадзор) выявило 110 нарушений \n",
    "обязательных требований в области промышленной безопасности на опасных производственных объектах II класса АО «Уралэлектромедь»: \n",
    "«Цех медеплавильный», «Участок плавильного производства медной катанки», «Цех металлургический филиала «Производство сплавов цветных металлов», \n",
    "«Участок плавильного цеха горячего цинкования», «Цех медеплавильный филиала «Производство полиметаллов».Установлено, что нарушена антикоррозионная защита \n",
    "трубопровода сжатого воздуха на отражательной анодной печи; частично отсутствует разметка, обозначающая границу опасной зоны в районе скипового подъемника здания склада \n",
    "сырья; отсутствует схема разграничения газопроводов между энергоцехом и подразделениями; у пружинного предохранительного клапана винты, крепящие колпак, не опломбированы; \n",
    "не проведено комплексное обследование рельсового пути мостового крана. По факту выявленных нарушений должностные лица ООО «УМК-Сталь» будут привлечены к административной \n",
    "ответственности, предусмотренной частью 1 статьи 9.1 КоАП РФ.'''\n"
   ]
  },
  {
   "cell_type": "code",
   "execution_count": 3,
   "metadata": {},
   "outputs": [
    {
     "data": {
      "text/plain": [
       "1261"
      ]
     },
     "execution_count": 3,
     "metadata": {},
     "output_type": "execute_result"
    }
   ],
   "source": [
    "len(text_1)"
   ]
  },
  {
   "cell_type": "code",
   "execution_count": 22,
   "metadata": {},
   "outputs": [],
   "source": [
    "text_1_en = '''The Ural Department of Rostechnadzor revealed violations in the field of industrial safety at the facilities of Uralelectromed JSC\n",
    "The Ural Department of the Federal Service for Environmental, Technological and Nuclear Supervision (Rostechnadzor) revealed 110 violations\n",
    "of mandatory requirements in the field of industrial safety at hazardous production facilities of Class II of Uralelectromed JSC:\n",
    "\"Copper Smelting Workshop\", \"Copper wire rod Smelting Site\", \"Metallurgical Workshop of the Non-ferrous Metal Alloys Production branch\",\n",
    "\"The site of the hot-dip galvanizing smelting shop\", \"The copper smelting shop of the Polymetals Production branch\".It is established that the anticorrosive protection is violated\n",
    "compressed air pipelines on a reflective anode furnace; there is partially no marking marking the boundary of the danger zone in the area of the skip lift\n",
    "of the raw materials warehouse building; there is no scheme for delimiting gas pipelines between the power plant and subdivisions; the screws securing the cap are not sealed at the spring safety valve;\n",
    "a comprehensive survey of the rail track of the bridge crane has not been carried out. Upon the fact of the revealed violations, officials of UMK-Steel LLC will be brought to administrative\n",
    "responsibility under part 1 of Article 9.1 of the Administrative Code of the Russian Federation.'''"
   ]
  },
  {
   "cell_type": "code",
   "execution_count": 4,
   "metadata": {},
   "outputs": [],
   "source": [
    "text_2 = '''Экономия времени в разы: «Уралэлектромедь» повысила эффективность производства медного купороса В Верхней Пышме на «Уралэлектромеди» \n",
    "(предприятие УГМК) освоили новую технологию, которая позволяет в разы ускорить процесс производства медного купороса. \n",
    "В купоросном цехе появилась автоматизированная система измерения плотности раствора.\n",
    "Как сообщают в пресс-службе предприятия, плотность это очень важный параметр. Она напрямую влияет на технические характеристики продукта, \n",
    "которые требует заказчик. Например, если плотность раствора ниже, то кристаллы купороса будут крупные и не пройдут сквозь сито грохота, \n",
    "потребуется дополнительная обработка, чтобы они попали в готовую продукцию.\n",
    "Раньше аппаратчики-гидрометаллурги тратили много времени, чтобы измерить плотность раствора с помощью ручных измерительных проборов. \n",
    "С внедрением автоматизации теперь это можно сделать в режиме реального времени, что существенно облегчило труд специалистов.\n",
    "Система измерения состоит из датчиков, которые установлены в баковом оборудовании, расположенном в технологической схеме \n",
    "перед выпарными вакуум-кристаллизаторами. Начальник купоросного цеха предприятия Владимир Ивонин комментирует: \n",
    "«Параметры плотности исходного раствора выводятся на экран, таким образом регулировать технологические показатели (расход пара, оборотной воды) стало удобнее и оперативнее»'''"
   ]
  },
  {
   "cell_type": "code",
   "execution_count": 5,
   "metadata": {},
   "outputs": [
    {
     "data": {
      "text/plain": [
       "1355"
      ]
     },
     "execution_count": 5,
     "metadata": {},
     "output_type": "execute_result"
    }
   ],
   "source": [
    "len(text_2)"
   ]
  },
  {
   "cell_type": "code",
   "execution_count": 24,
   "metadata": {},
   "outputs": [],
   "source": [
    "text_2_en = '''Saving time at times: Uralelectromed has increased the efficiency of copper sulfate production in Verkhnyaya Pyshma at Uralelectromed\n",
    "(the UMMC enterprise) has mastered a new technology that allows to speed up the production process of copper sulfate at times.\n",
    "An automated system for measuring the density of the solution appeared in the vitriol shop.\n",
    "According to the press service of the company, density is a very important parameter. It directly affects the technical characteristics of the product,\n",
    "which the customer requires. For example, if the density of the solution is lower, then the vitriol crystals will be large and will not pass through the screen of the screen,\n",
    "additional processing will be required so that they get into the finished product.\n",
    "Previously, hydrometallurgical apparatchiks spent a lot of time to measure the density of the solution using manual measuring samples.\n",
    "With the introduction of automation, this can now be done in real time, which has greatly facilitated the work of specialists.\n",
    "The measurement system consists of sensors that are installed in the tank equipment located in the technological scheme\n",
    "before evaporating vacuum crystallizers. The head of the vitriol shop of the enterprise Vladimir Ivonin comments:\n",
    "\"The parameters of the density of the initial solution are displayed on the screen, so it has become more convenient and faster to regulate technological indicators (steam consumption, recycled water)\"'''"
   ]
  },
  {
   "cell_type": "code",
   "execution_count": 6,
   "metadata": {},
   "outputs": [],
   "source": [
    "text_3 = '''Информационное сообщение о проведении общественных обсуждений В соответствии с Федеральным законом от 23.11.1995 № 174-ФЗ «Об экологической экспертизе», \n",
    "приказом Минприроды России от 01 декабря 2020 г. № 999 «Об утверждении требований к материалам оценки \n",
    "воздействия на окружающую среду» ПАО «Надеждинский металлургический завод» уведомляет о проведении общественных \n",
    "обсуждений предварительных материалов оценки воздействия на окружающую среду (ОВОС) по объекту государственной \n",
    "экологической экспертизы «Шлаковый отвал ПАО «Надеждинский металлургический завод». \n",
    "Планируемая (намечаемая) хозяйственная деятельность – реконструкция объекта «Шлаковый отвал ПАО «Надеждинский металлургический завод», \n",
    "расположенного по адресу: Свердловская область, г. Серов, ул. Агломератчиков, 6, ул. Агломератчиков, 6 Е, в границах существующего шлакового \n",
    "отвала на земельных участках № 66:61:0213003:11, 66:61:0213003:3298, общей площадью 520603 м² (52,0603 га). Цель планируемой (намечаемой) \n",
    "хозяйственной деятельности – сокращение или исключение негативного воздействия на окружающую среду и обеспечение безопасной эксплуатации при \n",
    "расширении площади существующего шлакового отвала в границах действующего объекта для размещения отходов на земельных участках №66:61:0213003:11 \n",
    "и 66:61:0213003:3298, общей площадью 520603 м² (52,0603 га) для развития и дальнейшей эксплуатации шлакового отвала и организации на высвобождающейся\n",
    "площади шлакового отвала «Склада гипсосодержащих отходов» Заказчик проекта: ПАО «Надеждинский металлургический завод», 624992, Свердловская область, г. \n",
    "Серов, ул. Агломератчиков, 6. Исполнитель работ: ООО «КСЭП Геоэкология Консалтинг», Свердловская область, г. Екатеринбург, ул. Декабристов, 20, офис Д203,\n",
    "тел. 8(922) 186-62-94 (директор по развитию Холодилин Антон Алексеевич); e-mail: 11111adx@gmail.com. Планируемые сроки проведения оценки воздействия на окружающую \n",
    "среду – I-II квартал 2023 г. Орган местного самоуправления, ответственный за организацию общественных обсуждений: администрация Серовского городского округа, 624992, \n",
    "Свердловская область, г. Серов, ул. Ленина, д.140. Период общественных обсуждений с 13.02.2023 по 25.03.2023 гг. Форма проведения общественных обсуждений \n",
    "– общественные слушания. Ознакомление с материалами по объекту государственной экологической экспертизы с 13.02.2023 по 25.03.2023 в Комитете по архитектуре и \n",
    "градостроительству администрации Серовского городского округа по адресу: Свердловская область, г. Серов, ул. Загородка, 12 (1-й этаж, левое крыло), \n",
    "в электронном виде – на официальном сайте администрации Серовского городского округа в сети «Интернет» (http://www.adm-serov.ru), официальном сайте \n",
    "ПАО «Надеждинский металлургический завод» в сети «Интернет» (https://mmc-steel.ru). Общественные слушания состоятся 15 марта 2023 г. в 17:30 в помещении \n",
    "№ 195 Муниципального автономного учреждения «Дворец культуры металлургов» по адресу: Свердловская область, г. Серов, ул. Кузьмина,1. В период общественных \n",
    "обсуждений участники могут представить свои предложения и замечания по предварительным материалам ОВОС: – в письменной форме или форме электронного документа \n",
    "в адрес комиссии по организации и проведению общественных обсуждений (http://www.adm-serov.ru), в адрес заказчика работ (https://mmc-steel.ru); \n",
    "– посредством записи в журнале учета посетителей экспозиции проекта по адресу: Свердловская область, г. Серов, ул. Загородка, д. 12 \n",
    "(Комитет по архитектуре и градостроительству администрации Серовского городского округа); – в устной и письменной форме в ходе проведения собрания участников \n",
    "общественных слушаний. В период общественных обсуждений, а также в течение 10 календарных дней после окончания срока общественных обсуждений все замечания, \n",
    "предложения и комментарии общественности подлежат фиксированию и будут учтены при окончательной разработке материалов ОВОС.'''"
   ]
  },
  {
   "cell_type": "code",
   "execution_count": 7,
   "metadata": {},
   "outputs": [
    {
     "data": {
      "text/plain": [
       "3860"
      ]
     },
     "execution_count": 7,
     "metadata": {},
     "output_type": "execute_result"
    }
   ],
   "source": [
    "len(text_3)"
   ]
  },
  {
   "cell_type": "code",
   "execution_count": 26,
   "metadata": {},
   "outputs": [],
   "source": [
    "text_3_en ='''Information message on public discussions In accordance with Federal Law No. 174-FZ dated 11/23/1995 \"On Environmental Expertise\",\n",
    "Order No. 999 of the Ministry of Natural Resources of the Russian Federation dated December 01, 2020 \"On Approval of Requirements for\n",
    "Environmental Impact Assessment Materials\" PJSC Nadezhdinsky Metallurgical Plant notifies of public\n",
    "discussions of preliminary impact assessment materials environmental impact Assessment (EIA) on the object of the state\n",
    "environmental expertise \"Slag dump of PJSC \"Nadezhdinsky Metallurgical Plant\".\n",
    "The planned (planned) economic activity is the reconstruction of the Slag Dump facility of PJSC Nadezhdinsky Metallurgical Plant,\n",
    "located at the address: Sverdlovsk region, Serov, Agglomeratchikov str., 6, Agglomeratchikov str., 6 E, within the boundaries of the existing slag\n",
    "dump on land plots № 66:61:0213003:11, 66:61:0213003:3298, with a total area of 520603 m2 (52.0603 ha). The purpose of the planned (planned)\n",
    "economic activity is to reduce or eliminate the negative impact on the environment and ensure safe operation when\n",
    "expansion of the area of the existing slag dump within the boundaries of the existing waste disposal facility on land plots No. 66:61:0213003:11\n",
    "and 66:61:0213003:3298, with a total area of 520603 m2 (52.0603 ha) for the development and further operation of the slag dump and the organization\n",
    "of a \"Gypsum waste warehouse\" on the released area of the slag dump Customer project: PJSC \"Nadezhdinsky Metallurgical Plant\", 624992, Sverdlovsk region,\n",
    "Serov, Agglomeratchikov str., 6. Contractor: CSEP Geoecology Consulting LLC, Sverdlovsk region, Yekaterinburg, Decembristov str., 20, office D203,\n",
    "tel. 8(922) 186-62-94 (Development Director Anton Alekseevich Kholodilin); e-mail: 11111adx@gmail.com . The planned dates for the environmental impact assessment\n",
    "are the I–II quarter of 2023. The local government body responsible for organizing public discussions: administration of the Serovsky City District, 624992,\n",
    "Sverdlovsk region, Serov, Lenin St., 140. The period of public discussions is from 13.02.2023 to 25.03.2023. The form of public discussions\n",
    "is public hearings. Familiarization with the materials on the object of the state ecological expertise from 13.02.2023 to 25.03.2023 in the Committee on Architecture and\n",
    "Urban Planning of the administration of the Serov city district at the address: Sverdlovsk region, Serov, Zagorodka str., 12 (1st floor, left wing),\n",
    "in electronic form – on the official website of the administration of the Serovsky city district on the Internet (http://www.adm-serov.ru ), the official website\n",
    "PJSC \"Nadezhdinsky Metallurgical Plant\" on the Internet (https://mmc-steel.ru ). Public hearings will be held on March 15, 2023 at 17:30 indoors\n",
    "No. 195 of the Municipal Autonomous Institution \"Palace of Culture of Metallurgists\" at the address: Sverdlovsk region, Serov, Kuzmina str., 1. During the period of public\n",
    "participants of the discussions can submit their suggestions and comments on the preliminary materials of the EIA: – in writing or in the form of an electronic document\n",
    "addressed to the commission for the organization and conduct of public discussions (http://www.adm-serov.ru ), to the address of the work customer (https://mmc-steel.ru );\n",
    "– by means of an entry in the register of visitors to the exposition of the project at the address: Sverdlovsk region, Serov, Zagorodka str., 12\n",
    "(Committee on Architecture and Urban Planning of the administration of the Serovsky City District); – orally and in writing during the meeting of participants\n",
    "public hearings. During the period of public discussions, as well as within 10 calendar days after the end of the period of public discussions, all comments,\n",
    "suggestions and comments of the public are subject to recording and will be taken into account in the final development of the EIA materials.'''"
   ]
  },
  {
   "cell_type": "code",
   "execution_count": 27,
   "metadata": {},
   "outputs": [
    {
     "name": "stdout",
     "output_type": "stream",
     "text": [
      "{'neutral': 0.6001983880996704, 'negative': 0.14034625887870789}\n",
      "{'neutral': 0.7248802781105042, 'negative': 0.21734751760959625}\n",
      "{'neutral': 0.880807101726532, 'negative': 0.0980893224477768}\n"
     ]
    },
    {
     "name": "stderr",
     "output_type": "stream",
     "text": [
      "Warning : `load_model` does not return WordVectorModel or SupervisedModel any more, but a `FastText` object which is very similar.\n"
     ]
    }
   ],
   "source": [
    "tokenizer = RegexTokenizer()\n",
    "tokens = tokenizer.split('всё очень плохо')  # [('всё', None), ('очень', None), ('плохо', None)]\n",
    "\n",
    "model = FastTextSocialNetworkModel(tokenizer=tokenizer)\n",
    "\n",
    "messages = [text_1, text_2, text_3]\n",
    "\n",
    "results = model.predict(messages, k=2)\n",
    "\n",
    "for message, sentiment in zip(messages, results):\n",
    "    print(sentiment)\n"
   ]
  },
  {
   "cell_type": "code",
   "execution_count": 28,
   "metadata": {},
   "outputs": [
    {
     "name": "stdout",
     "output_type": "stream",
     "text": [
      "{'positive': 1.0000100135803223, 'negative': 1.0000003385357559e-05}\n"
     ]
    },
    {
     "name": "stderr",
     "output_type": "stream",
     "text": [
      "Warning : `load_model` does not return WordVectorModel or SupervisedModel any more, but a `FastText` object which is very similar.\n"
     ]
    }
   ],
   "source": [
    "tokenizer = RegexTokenizer()\n",
    "tokens = tokenizer.split('всё очень плохо')  # [('всё', None), ('очень', None), ('плохо', None)]\n",
    "\n",
    "model = FastTextSocialNetworkModel(tokenizer=tokenizer)\n",
    "\n",
    "messages = ['счастье']\n",
    "\n",
    "results = model.predict(messages, k=2)\n",
    "\n",
    "for message, sentiment in zip(messages, results):\n",
    "    print(sentiment)\n"
   ]
  },
  {
   "cell_type": "code",
   "execution_count": 29,
   "metadata": {},
   "outputs": [],
   "source": [
    "from afinn import Afinn"
   ]
  },
  {
   "cell_type": "code",
   "execution_count": 30,
   "metadata": {},
   "outputs": [],
   "source": [
    "afinn = Afinn()"
   ]
  },
  {
   "cell_type": "code",
   "execution_count": 31,
   "metadata": {},
   "outputs": [
    {
     "data": {
      "text/plain": [
       "-10.0"
      ]
     },
     "execution_count": 31,
     "metadata": {},
     "output_type": "execute_result"
    }
   ],
   "source": [
    "afinn.score(text_1_en)"
   ]
  },
  {
   "cell_type": "code",
   "execution_count": 32,
   "metadata": {},
   "outputs": [
    {
     "data": {
      "text/plain": [
       "7.0"
      ]
     },
     "execution_count": 32,
     "metadata": {},
     "output_type": "execute_result"
    }
   ],
   "source": [
    "afinn.score(text_2_en)"
   ]
  },
  {
   "cell_type": "code",
   "execution_count": 33,
   "metadata": {},
   "outputs": [
    {
     "data": {
      "text/plain": [
       "-3.0"
      ]
     },
     "execution_count": 33,
     "metadata": {},
     "output_type": "execute_result"
    }
   ],
   "source": [
    "afinn.score(text_3_en)"
   ]
  },
  {
   "cell_type": "code",
   "execution_count": 8,
   "metadata": {},
   "outputs": [],
   "source": [
    "text_4 = '''Бокарев и Махмудов послали Гайский ГОК лесом\n",
    "Азбука Компромата - acompromat.com , 8.2.2023\n",
    "За гибель троих рабочих на Гайском ГОКе УГМК судят «стрелочников».\n",
    "В марте прошлого года Искандар Махмудов и Андрей Бокарев официально вышли из капитала \n",
    "«Уральской горно-металлургической компании». А в апреле на одном из её предприятий погибли три человека. \n",
    "На фоне этого эксперты предполагают, что миллиардеры могли сохранить неформальное влияние на крупнейшего производителя \n",
    "меди. Трагические инциденты происходят там с пугающей регулярностью, а отвечать за них приходится руководителям низшего звена.\n",
    "В Оренбурге суд начинает рассмотрение уголовного дела по факту гибели троих рабочих ПАО \n",
    "«Гайский горно-обогатительный комбинат», случившейся 23 апреля 2022 года. После трагедии все работы \n",
    "на руднике были приостановлены, а персонал - эвакуирован. В тот же день была выдвинута версия, \n",
    "что рабочие (24-летний горный мастер и двое взрывников в возрасте 35 и 39 лет) погибли в результате \n",
    "отравления метаном после производства подрыва. Кто будет за это наказан?\n",
    "Цена нарушения - 3 тыс. рублей\n",
    "Обвинение выдвинуто в отношении начальника подземного участка взрывных работ и его помощника со склада \n",
    "взрывчатых материалов. Первоначальная версия трагедии подтвердилась. Оказалось, что после проведения подрыва в\n",
    "шахте скопился аммиак. Он не выветрился по той простой причине, что отсутствовало оборудование для быстрого проветривания,\n",
    "трое рабочих отравились газом.\n",
    "Обвинение начальнику участка и его помощнику предъявлено по ч 3. ст. 217 УК РФ (нарушение требований промышленной\n",
    "безопасности опасного производственного объекта, повлекшее по неосторожности смерть двух и более лиц). Правоохранительные органы считают, что обвиняемые не смогли обеспечить в шахте безопасные работы и в отсутствии необходимого оборудования не наложили запрет на их проведение.\n",
    "Аварийные инциденты происходят в Гайских шахтах регулярно. В том же апреле 2022 года случилось ещё три происшествия: 3-го числа после падения части горной породы один шахтер получил травму шейных позвонков, а 15-го загорелась погрузочно-доставочная машина. Может после смены акционеров предприятия УГМК пошли в разнос? Нет, работники там гибли и прежде.\n",
    "В августе 2020 года на Гайском ГОКе серьезно пострадал 27-летний рабочий. Причина - неработающая система пылеподавления. Человек получил 3 группу инвалидности. В сентябре того же года из-за неисправности виброконвейера на глубине 1230 метров погиб 39-летний машинист. До этого прокуратура Оренбургской области выявила комбинате ряд нарушений правил охраны труда и требований промышленной безопасности. А после проверки, проведенной госинспекцией труда области, виновным в нарушениях должностным лицам были выписаны штрафы в размере 3 тыс. руб.\n",
    "И вот, в апреле прошлого года на предприятии снова погибли люди, но никого из топ-менеджеров на скамье подсудимых нет.\n",
    "Владельцы ГОКа\n",
    "ПАО «Гайский ГОК» является одним из главных активов УГМК, объединяющей более 40 предприятий в десятке регионов страны. Она входит в число крупнейших металлургических компаний - первое место в России и девятое в мире по производству меди.\n",
    "По состоянию на конец 2021 года основными владельцами компании были Искандар Махмудов (50%), Андрей Козицын (34,99%) и Андрей Бокарев (10%). В марте прошлого года Махмудов и Бокарев вышли из капитала холдинга и совета директоров. В июле с поста гендиректора ушел Козицын. Эксперты предполагают, что бизнесмены приняли такое решение, опасаясь западных санкций. Основания для этого имелись: 8 марта Лондонская ассоциация участников рынка драгоценных металлов приостановила действие статуса надежного поставщика (LBMA) для головного предприятия УГМК - АО «Уралэлектромедь». В апреле под британские санкции угодил Бокарев, в сентябре - Махмудов.\n",
    "Эксперт по M&A и структурированию бизнеса Роман Лукичев считает, что миллиардеры могли выйти из списка аффилированных лиц УГМК «без утраты реального влияния на деятельность общества». В комментарии для «Коммерсанта» управляющий партнер «ВМ Право и Консалтинг» Владимир Чувашов отметил, что есть несколько вариантов выхода из компании при сохранении реального контроля над активами: использование номинальных лиц или передача пакета акций ранее созданному юридическому лицу.\n",
    "Состояние Искандара Махмудова «Форбс» оценивает в 3,6 млрд долл., Андрея Козицына - в 1,9 млрд долл., Андрея Бокарева - в 1,2 млрд долл.\n",
    "По данным ЕГРЮЛ, управление деятельностью ПАО «Гайский ГОК» напрямую осуществляет ОАО «УГМК», которое после ухода Козицына возглавляет Эльфат Исмагилов. Кроме начальника участка и его помощника отвечать за гибель троих человек в апреле прошлого года, похоже, некому.'''"
   ]
  },
  {
   "cell_type": "code",
   "execution_count": 9,
   "metadata": {},
   "outputs": [
    {
     "data": {
      "text/plain": [
       "4639"
      ]
     },
     "execution_count": 9,
     "metadata": {},
     "output_type": "execute_result"
    }
   ],
   "source": [
    "len(text_4)"
   ]
  },
  {
   "cell_type": "code",
   "execution_count": 36,
   "metadata": {},
   "outputs": [],
   "source": [
    "text_4_en = '''Bokarev and Makhmudov sent the Gaisky GOK forest\n",
    "The ABC of Compromising Materials - acompromat.com , 8.2.2023\n",
    "For the death of three workers at the Gaisky GOK of the UMMC, \"switchmen\" are being tried.\n",
    "In March last year, Iskandar Makhmudov and Andrey Bokarev officially withdrew from the capital of the Ural Mining and Metallurgical Company. And in April, three people died at one of its enterprises. Against this background, experts suggest that billionaires could retain informal influence on the largest copper producer. Tragic incidents occur there with frightening regularity, and lower-level managers have to be responsible for them.\n",
    "In Orenburg, the court begins consideration of a criminal case on the fact of the death of three workers of PJSC Gaisky Mining and Processing Plant, which occurred on April 23, 2022. After the tragedy, all work at the mine was suspended, and the staff was evacuated. On the same day, a version was put forward that the workers (a 24-year-old mining master and two explosives experts aged 35 and 39) they died as a result of methane poisoning after the production of the explosion. Who will be punished for this?\n",
    "The price of the violation is 3 thousand rubles\n",
    "The charge was brought against the head of the underground blasting site and his assistant from the warehouse of explosive materials. The initial version of the tragedy was confirmed. It turned out that after the explosion, ammonia accumulated in the mine. It did not erode for the simple reason that there was no equipment for rapid ventilation, three workers were poisoned by gas.\n",
    "The charge against the head of the site and his assistant was brought under Part 3. Article 217 of the Criminal Code of the Russian Federation (violation of the requirements of industrial safety of a dangerous production facility, resulting in the death of two or more persons by negligence). Law enforcement agencies believe that the accused failed to ensure safe work in the mine and, in the absence of the necessary equipment, did not impose a ban on their conduct.\n",
    "Emergency incidents occur in the Gay mines on a regular basis. In the same April, 2022, three more accidents happened: on the 3rd, after the fall of a part of the rock, one miner suffered an injury to the cervical vertebrae, and on the 15th, a loading and delivery car caught fire. Maybe after the change of shareholders, the UMMC enterprises went into disarray? No, workers have died there before.\n",
    "In August 2020, a 27-year-old worker was seriously injured at the Gaisky GOK. The reason is a non-working dust suppression system. The person received the 3rd disability group. In September of the same year, a 39-year-old machinist died due to a malfunction of a vibrating conveyor at a depth of 1230 meters. Prior to that, the Prosecutor's office of the Orenburg Region revealed a number of violations of labor protection rules and industrial safety requirements at the plant. And after the inspection carried out by the State labor Inspectorate of the region, the officials guilty of violations were issued fines in the amount of 3 thousand rubles.\n",
    "And so, in April last year, people died at the enterprise again, but none of the top managers are in the dock.\n",
    "GOK Owners\n",
    "PJSC Gaisky GOK is one of the main assets of UMMC, which unites more than 40 enterprises in a dozen regions of the country. It is one of the largest metallurgical companies - the first in Russia and the ninth in the world in copper production.\n",
    "As of the end of 2021, the main owners of the company were Iskandar Makhmudov (50%), Andrey Kozitsyn (34.99%) and Andrey Bokarev (10%). In March last year, Makhmudov and Bokarev withdrew from the capital of the holding and the board of directors. In July, Kozitsyn resigned as CEO. Experts suggest that businessmen made such a decision, fearing Western sanctions. There were grounds for this: on March 8, the London Association of Precious Metals Market Participants suspended the status of a reliable supplier (LBMA) for UMMC's parent company, Uralelectromed JSC. In April, Bokarev fell under British sanctions, in September - Mahmudov.\n",
    "Roman Lukichev, an expert on M&A and business structuring, believes that billionaires could leave the list of UMMC affiliates \"without losing real influence on the company's activities.\" In a comment for Kommersant, Vladimir Chuvashov, managing partner of VM Pravo and Consulting, noted that there are several options for exiting the company while maintaining real control over assets: using nominees or transferring a block of shares to a previously created legal entity.\n",
    "Iskandar Makhmudov's fortune is estimated by Forbes at $3.6 billion, Andrey Kozitsyn at $1.9 billion, Andrey Bokarev at $1.2 billion.\n",
    "According to the Unified State Register of Legal Entities, the management of the activities of PJSC Gaisky GOK is directly carried out by OJSC UMMC, which, after Kozitsyn's departure, is headed by Elfat Ismagilov. Except for the head of the station and his assistant, there seems to be no one to be responsible for the deaths of three people in April last year.'''"
   ]
  },
  {
   "cell_type": "code",
   "execution_count": 3,
   "metadata": {},
   "outputs": [],
   "source": [
    "text_5 = '''Прикоснуться к истории и увидеть артефакты: необычная аптека открывается в Верхней Пышме\n",
    "ЕАН - eanews.ru , 9.2.2023\n",
    "9 ФЕВРАЛЯ 2023, 14:43\n",
    "Мария Трускова\n",
    "В Верхней Пышме завтра, 10 февраля, откроется первая на Урале аптека нового формата. В ней можно не только купить лекарства, но и прикоснуться к истории аптечного дела и даже самостоятельно изготовить витамин. \n",
    "В здании на ул. Чайковского, 28 аптека находилась еще в 1950-е годы. Со временем строение пришло в негодность, и на его месте построили новое. Сеть «УГМК-Фарм», аптека которой открывается сейчас на этом месте, сделала все возможное, чтобы возродить историю.\n",
    "Прежде чем приступить к строительству нового здания, сотрудники изучали архивы, собирали информацию и фото, искали по всей стране редкие аптечные раритеты. Даже мебель и витрины созданы по образцам аптечной мебели XIX и XX веков.\n",
    "Как рассказывает заведующая аптечной сетью «УГМК-Фарм» Елена Грехова, важно было создать пространство, где будет комфортно и интересно всем поколениям посетителей. «Поэтому аптека разделена на зоны – современную, где работают фармацевты и располагается лекторий, и историческую, где каждый сможет увидеть то, что раньше было скрыто от глаз посетителей, – например, процесс производства лекарств и утварь, которая для этого использовалась» – отмечает Елена Грехова.\n",
    "Так, гости могут увидеть на витринах реальные артефакты аптечного дела. Например, медицинские рукописи второй половины XVII века – это прописи лекарств, которые наиболее часто применяли в России. Также здесь представлена дореволюционная аптечная посуда: бутылочки, баночки, скляночки, флакончики всевозможных форм, которые аптекари часто изготавливали на заказ, ступка и пестик XIX века, паровая баня, где готовили настои и отвары, старинные ручные коромысловые весы и многое другое.\n",
    "Желающие смогут попробовать себя в роли провизора – завернуть в специальную бумагу аптечные порошки и запустить машину Голберга. Механизм символизирует процесс изготовления таблеток, и в финале каждый получит сладкую аскорбинку.\n",
    "В отдельном зале посетители смогут выпить кофе или чай, пообщаться с врачами «УГМК-Здоровье», посмотреть онлайн-лекции специалистов клиники. Отдельное внимание уделят беременным и молодым мамам – многие лекции будут посвящены планированию беременности, родами и здоровью детей. Кроме того, для жителей Верхней Пышмы здесь будут проводить дни здоровья, где можно будет измерить основные показатели, например, уровень давления и сахара в крови.\n",
    "В аптечном зале можно будет приобрести не только лекарства, но и ортопедические изделия. Для удобства посетителей их можно будет подобрать, воспользовавшись удобной примерочной.\n",
    "Первых посетителей необычная аптека готовится принять завтра с 17:00 до 19:00. Гости прикоснутся к прошлому и поучаствуют в викторине с подарками и беспроигрышной лотерее, а также смогут измерить уровень давления и сахара в крови.'''"
   ]
  },
  {
   "cell_type": "code",
   "execution_count": 4,
   "metadata": {},
   "outputs": [],
   "source": [
    "text_5_en = '''Touch the history and see the artifacts: an unusual pharmacy opens in Verkhnyaya Pyshma\n",
    "EAN - eanews.ru , 9.2.2023\n",
    "FEBRUARY 9, 2023, 14:43\n",
    "Maria Truskova\n",
    "Tomorrow, February 10, the first pharmacy in the Urals of a new format will open in Verkhnyaya Pyshma. In it, you can not only buy medicines, but also touch the history of pharmacy and even make a vitamin yourself.\n",
    "The pharmacy was located in the building on Tchaikovsky Street, 28 back in the 1950s. Over time, the building fell into disrepair, and a new one was built in its place. The UMMC-Pharm chain, whose pharmacy is now opening on this site, has done everything possible to revive history.\n",
    "Before starting the construction of the new building, the staff studied the archives, collected information and photos, searched for rare pharmacy rarities throughout the country. Even the furniture and showcases are modeled after pharmacy furniture of the XIX and XX centuries.\n",
    "According to Elena Grekhova, head of the UMMC-Pharm pharmacy chain, it was important to create a space where it would be comfortable and interesting for all generations of visitors. \"Therefore, the pharmacy is divided into zones – modern, where pharmacists work and the lecture hall is located, and historical, where everyone can see what was previously hidden from the eyes of visitors, for example, the process of manufacturing medicines and utensils that were used for this,\" Elena Grekhova notes.\n",
    "So, guests can see real pharmacy artifacts in the showcases. For example, medical manuscripts of the second half of the XVII century are prescriptions of medicines that were most often used in Russia. Pre-revolutionary pharmacy tableware is also presented here: bottles, jars, flasks, bottles of various shapes that pharmacists often made to order, a mortar and pestle of the XIX century, a steam bath where infusions and decoctions were prepared, antique hand rocker scales and much more.\n",
    "Those who wish will be able to try themselves as a pharmacist – wrap pharmacy powders in special paper and start the Golberg machine. The mechanism symbolizes the process of making pills, and in the final everyone will receive a sweet ascorbic.\n",
    "In a separate hall, visitors will be able to drink coffee or tea, chat with UMMC-Zdorovye doctors, watch online lectures by clinic specialists. Special attention will be paid to pregnant and young mothers – many lectures will be devoted to pregnancy planning, childbirth and children's health. In addition, health days will be held here for residents of Verkhnyaya Pyshma, where it will be possible to measure basic indicators, for example, blood pressure and sugar levels.\n",
    "In the pharmacy hall, it will be possible to purchase not only medicines, but also orthopedic products. For the convenience of visitors, they can be picked up using a convenient fitting room.\n",
    "The unusual pharmacy is preparing to receive its first visitors tomorrow from 17:00 to 19:00. Guests will touch the past and participate in a quiz with gifts and a win-win lottery, and will also be able to measure blood pressure and sugar levels.'''"
   ]
  },
  {
   "cell_type": "code",
   "execution_count": 39,
   "metadata": {},
   "outputs": [
    {
     "name": "stdout",
     "output_type": "stream",
     "text": [
      "{'neutral': 0.6654205918312073, 'negative': 0.1968362182378769}\n",
      "{'neutral': 0.546748161315918, 'negative': 0.20690405368804932}\n"
     ]
    },
    {
     "name": "stderr",
     "output_type": "stream",
     "text": [
      "Warning : `load_model` does not return WordVectorModel or SupervisedModel any more, but a `FastText` object which is very similar.\n"
     ]
    }
   ],
   "source": [
    "tokenizer = RegexTokenizer()\n",
    "tokens = tokenizer.split('всё очень плохо')  # [('всё', None), ('очень', None), ('плохо', None)]\n",
    "\n",
    "model = FastTextSocialNetworkModel(tokenizer=tokenizer)\n",
    "\n",
    "messages = [text_4, text_5]\n",
    "\n",
    "results = model.predict(messages, k=2)\n",
    "\n",
    "for message, sentiment in zip(messages, results):\n",
    "    print(sentiment)\n"
   ]
  },
  {
   "cell_type": "code",
   "execution_count": 40,
   "metadata": {},
   "outputs": [
    {
     "name": "stdout",
     "output_type": "stream",
     "text": [
      "-70.0 22.0\n"
     ]
    }
   ],
   "source": [
    "print(afinn.score(text_4_en),afinn.score(text_5_en))"
   ]
  },
  {
   "cell_type": "code",
   "execution_count": 51,
   "metadata": {},
   "outputs": [],
   "source": [
    "from translate import Translator"
   ]
  },
  {
   "cell_type": "code",
   "execution_count": 53,
   "metadata": {},
   "outputs": [],
   "source": [
    "translator = Translator(to_lang='English')"
   ]
  },
  {
   "cell_type": "code",
   "execution_count": 46,
   "metadata": {},
   "outputs": [
    {
     "data": {
      "text/plain": [
       "str"
      ]
     },
     "execution_count": 46,
     "metadata": {},
     "output_type": "execute_result"
    }
   ],
   "source": [
    "type(text_4)"
   ]
  },
  {
   "attachments": {},
   "cell_type": "markdown",
   "metadata": {},
   "source": [
    "---"
   ]
  },
  {
   "cell_type": "code",
   "execution_count": 12,
   "metadata": {},
   "outputs": [
    {
     "data": {
      "text/plain": [
       "0.0"
      ]
     },
     "execution_count": 12,
     "metadata": {},
     "output_type": "execute_result"
    }
   ],
   "source": [
    "# the following installations are required\n",
    "# python -m textblob.download_corpora\n",
    "# python -m spacy download en_core_web_sm\n",
    "# ru_core_news_lg\n",
    "\n",
    "import spacy\n",
    "from spacytextblob.spacytextblob import SpacyTextBlob\n",
    "\n",
    "nlp = spacy.load('ru_core_news_lg')\n",
    "nlp.add_pipe('spacytextblob')\n",
    "text = text_5\n",
    "doc = nlp(text)\n",
    "doc._.blob.polarity                            # Polarity: -0.125\n",
    "#doc._.blob.subjectivity                        # Subjectivity: 0.9\n",
    "#doc._.blob.sentiment_assessments.assessments   # Assessments: [(['really', 'horrible'], -1.0, 1.0, None), (['worst', '!'], -1.0, 1.0, None), (['really', 'good'], 0.7, 0.6000000000000001, None), (['happy'], 0.8, 1.0, None)]\n",
    "#doc._.blob.ngrams()                            # [WordList(['I', 'had', 'a']), WordList(['had', 'a', 'really']), WordList(['a', 'really', 'horrible']), WordList(['really', 'horrible', 'day']), WordList(['horrible', 'day', 'It']), WordList(['day', 'It', 'was']), WordList(['It', 'was', 'the']), WordList(['was', 'the', 'worst']), WordList(['the', 'worst', 'day']), WordList(['worst', 'day', 'ever']), WordList(['day', 'ever', 'But']), WordList(['ever', 'But', 'every']), WordList(['But', 'every', 'now']), WordList(['every', 'now', 'and']), WordList(['now', 'and', 'then']), WordList(['and', 'then', 'I']), WordList(['then', 'I', 'have']), WordList(['I', 'have', 'a']), WordList(['have', 'a', 'really']), WordList(['a', 'really', 'good']), WordList(['really', 'good', 'day']), WordList(['good', 'day', 'that']), WordList(['day', 'that', 'makes']), WordList(['that', 'makes', 'me']), WordList(['makes', 'me', 'happy'])]\n"
   ]
  },
  {
   "cell_type": "code",
   "execution_count": 11,
   "metadata": {},
   "outputs": [
    {
     "name": "stdout",
     "output_type": "stream",
     "text": [
      "Apple рассматривает возможность покупки стартапа из Соединённого Королевства за $1 млрд\n",
      "Apple PROPN nsubj\n",
      "рассматривает VERB ROOT\n",
      "возможность NOUN obj\n",
      "покупки NOUN nmod\n",
      "стартапа NOUN nmod\n",
      "из ADP case\n",
      "Соединённого ADJ amod\n",
      "Королевства PROPN nmod\n",
      "за ADP case\n",
      "$ NOUN nmod\n",
      "1 NUM appos\n",
      "млрд NOUN punct\n"
     ]
    }
   ],
   "source": [
    "import spacy\n",
    "from spacy.lang.ru.examples import sentences \n",
    "\n",
    "nlp = spacy.load(\"ru_core_news_sm\")\n",
    "doc = nlp(sentences[0])\n",
    "print(doc.text)\n",
    "for token in doc:\n",
    "    print(token.text, token.pos_, token.dep_)"
   ]
  },
  {
   "cell_type": "code",
   "execution_count": null,
   "metadata": {},
   "outputs": [],
   "source": []
  }
 ],
 "metadata": {
  "kernelspec": {
   "display_name": "ds",
   "language": "python",
   "name": "python3"
  },
  "language_info": {
   "codemirror_mode": {
    "name": "ipython",
    "version": 3
   },
   "file_extension": ".py",
   "mimetype": "text/x-python",
   "name": "python",
   "nbconvert_exporter": "python",
   "pygments_lexer": "ipython3",
   "version": "3.11.0"
  },
  "orig_nbformat": 4,
  "vscode": {
   "interpreter": {
    "hash": "d40a6ae76423cf5fae73028028fb017d8630dd167584993d74bc99181da5a036"
   }
  }
 },
 "nbformat": 4,
 "nbformat_minor": 2
}
