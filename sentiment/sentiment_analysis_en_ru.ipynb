{
 "cells": [
  {
   "cell_type": "code",
   "execution_count": 1,
   "metadata": {},
   "outputs": [],
   "source": [
    "from googletrans import Translator\n",
    "from afinn import Afinn\n",
    "import pandas as pd"
   ]
  },
  {
   "cell_type": "code",
   "execution_count": 2,
   "metadata": {},
   "outputs": [],
   "source": [
    "#news = pd.read_excel('./data/....xlsx')"
   ]
  },
  {
   "cell_type": "code",
   "execution_count": 3,
   "metadata": {},
   "outputs": [],
   "source": [
    "#news.head()"
   ]
  },
  {
   "cell_type": "code",
   "execution_count": 4,
   "metadata": {},
   "outputs": [],
   "source": [
    "translator = Translator(service_urls=['translate.googleapis.com'])\n",
    "afinn = Afinn()"
   ]
  },
  {
   "cell_type": "code",
   "execution_count": 5,
   "metadata": {},
   "outputs": [],
   "source": [
    "def text_analizer(news_text):\n",
    "    \n",
    "    def text_splitter(text):\n",
    "        list_of_news = []\n",
    "        itterations = len(text)//3000\n",
    "        samle_size = len(text)\n",
    "        sample_tail = len(text)%3000\n",
    "        \n",
    "        for i in range(0, itterations):\n",
    "            str_to_remove = text[:3000]\n",
    "            list_of_news.append(str_to_remove)\n",
    "            text.replace(str_to_remove,'')\n",
    "        list_of_news.append(text[samle_size-sample_tail:samle_size])\n",
    "        \n",
    "        return list_of_news\n",
    "    \n",
    "    def text_translator(list_of_news):\n",
    "        news_en = []\n",
    "        for i in list_of_news:\n",
    "            news_en.append(translator.translate(i, lang_tgt='en').text)\n",
    "        return news_en\n",
    "    \n",
    "    def text_scoring(news_en):\n",
    "        news_string = ' '.join(news_en)\n",
    "        return afinn.score(news_string)\n",
    "    \n",
    "    first_step = text_splitter(news_text)\n",
    "    second_step = text_translator(first_step)\n",
    "    final_step = text_scoring(second_step)\n",
    "    \n",
    "    return final_step"
   ]
  },
  {
   "cell_type": "code",
   "execution_count": 6,
   "metadata": {},
   "outputs": [],
   "source": [
    "#news['score'] = news['text_body'].apply(text_analizer)"
   ]
  },
  {
   "cell_type": "code",
   "execution_count": 7,
   "metadata": {},
   "outputs": [],
   "source": [
    "#news.head()"
   ]
  },
  {
   "cell_type": "code",
   "execution_count": 8,
   "metadata": {},
   "outputs": [
    {
     "data": {
      "text/plain": [
       "'with pd.ExcelWriter(\\n            \"./data/....xlsx\") as writer:\\n        news.to_excel(writer, sheet_name=\\'score\\')'"
      ]
     },
     "execution_count": 8,
     "metadata": {},
     "output_type": "execute_result"
    }
   ],
   "source": [
    "'''with pd.ExcelWriter(\n",
    "            \"./data/....xlsx\") as writer:\n",
    "        news.to_excel(writer, sheet_name='score')'''"
   ]
  }
 ],
 "metadata": {
  "kernelspec": {
   "display_name": "ds",
   "language": "python",
   "name": "python3"
  },
  "language_info": {
   "codemirror_mode": {
    "name": "ipython",
    "version": 3
   },
   "file_extension": ".py",
   "mimetype": "text/x-python",
   "name": "python",
   "nbconvert_exporter": "python",
   "pygments_lexer": "ipython3",
   "version": "3.11.0"
  },
  "orig_nbformat": 4,
  "vscode": {
   "interpreter": {
    "hash": "d40a6ae76423cf5fae73028028fb017d8630dd167584993d74bc99181da5a036"
   }
  }
 },
 "nbformat": 4,
 "nbformat_minor": 2
}
