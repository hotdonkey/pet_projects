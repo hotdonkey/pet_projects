{
 "cells": [
  {
   "cell_type": "code",
   "execution_count": 29,
   "metadata": {},
   "outputs": [],
   "source": [
    "import re\n",
    "import pandas as pd\n",
    "df = pd.read_excel('data/тест вагоны.xlsx', skiprows=8)\n",
    "df_2 = pd.read_excel('data/тест вагоны.xlsx', skiprows=8)"
   ]
  },
  {
   "attachments": {},
   "cell_type": "markdown",
   "metadata": {},
   "source": [
    "---"
   ]
  },
  {
   "attachments": {},
   "cell_type": "markdown",
   "metadata": {},
   "source": [
    "### Функция поиска вагона через работу с прокси-списком (чистим на ненужные знаки в строке, режем на элементы, пихаем элементы в список, проверяем каждый элемент на возможность конверта в число) проходящие проверку данные возвращаем - это номера вагонов. ВНИМАНИЕ!!! неполные номера не попадают т.к. не проходят проверку на длинну"
   ]
  },
  {
   "cell_type": "code",
   "execution_count": 30,
   "metadata": {},
   "outputs": [],
   "source": [
    "def car_number_sep(data):\n",
    "    data = data.replace('ст. ', 'ст.').split(sep=' ')\n",
    "    new_data = []\n",
    "    for i in data:\n",
    "        i = i.replace(',' , '')\n",
    "        try:\n",
    "            if len(i)>4:\n",
    "                i = int(i)\n",
    "                new_data.append(i)\n",
    "        except ValueError:\n",
    "            pass\n",
    "    return new_data"
   ]
  },
  {
   "attachments": {},
   "cell_type": "markdown",
   "metadata": {},
   "source": [
    "### Функция через регулярку nuff sad. ВНИМАНИЕ!!! Неполные номера не проходят, но если так надо дропаем {8} оставляя \\d тогда все числовые значения будут попадать, но нужно иметь ввиду ВСЕ ДИДЖИТЫ будут попадать, так что я бы не советовал."
   ]
  },
  {
   "cell_type": "code",
   "execution_count": 1,
   "metadata": {},
   "outputs": [],
   "source": [
    "def car_number_regexp(string_):\n",
    "    regexp = re.findall(r'\\d{8}',string_)\n",
    "    return regexp"
   ]
  },
  {
   "attachments": {},
   "cell_type": "markdown",
   "metadata": {},
   "source": [
    "---"
   ]
  },
  {
   "cell_type": "code",
   "execution_count": null,
   "metadata": {},
   "outputs": [],
   "source": [
    "df['Номер вагона'] = df['Содержание'].apply(car_number_sep)\n",
    "df = df.explode(column='Номер вагона')\n",
    "df.head()"
   ]
  },
  {
   "cell_type": "code",
   "execution_count": 33,
   "metadata": {},
   "outputs": [
    {
     "data": {
      "text/html": [
       "<div>\n",
       "<style scoped>\n",
       "    .dataframe tbody tr th:only-of-type {\n",
       "        vertical-align: middle;\n",
       "    }\n",
       "\n",
       "    .dataframe tbody tr th {\n",
       "        vertical-align: top;\n",
       "    }\n",
       "\n",
       "    .dataframe thead th {\n",
       "        text-align: right;\n",
       "    }\n",
       "</style>\n",
       "<table border=\"1\" class=\"dataframe\">\n",
       "  <thead>\n",
       "    <tr style=\"text-align: right;\">\n",
       "      <th></th>\n",
       "      <th>Дата</th>\n",
       "      <th>Документ</th>\n",
       "      <th>Подразделение Дт</th>\n",
       "      <th>Субконто1 Дт</th>\n",
       "      <th>Субконто1 Кт</th>\n",
       "      <th>Содержание</th>\n",
       "      <th>Счет Дт</th>\n",
       "      <th>Сумма</th>\n",
       "      <th>Unnamed: 8</th>\n",
       "      <th>Номер вагона</th>\n",
       "    </tr>\n",
       "  </thead>\n",
       "  <tbody>\n",
       "    <tr>\n",
       "      <th>0</th>\n",
       "      <td>07.09.2022 2:00:00</td>\n",
       "      <td>Поступление (акт, накладная, УПД) 00BE-088207 ...</td>\n",
       "      <td>Цех_Шелехов ОП №2</td>\n",
       "      <td>25.05.11.2. Доставка сырья и материалов железн...</td>\n",
       "      <td>РЖД ОАО</td>\n",
       "      <td>Транспортные услуги по перевозке грузов код ст...</td>\n",
       "      <td>25</td>\n",
       "      <td>100000</td>\n",
       "      <td>СТК</td>\n",
       "      <td>98467244</td>\n",
       "    </tr>\n",
       "    <tr>\n",
       "      <th>0</th>\n",
       "      <td>07.09.2022 2:00:00</td>\n",
       "      <td>Поступление (акт, накладная, УПД) 00BE-088207 ...</td>\n",
       "      <td>Цех_Шелехов ОП №2</td>\n",
       "      <td>25.05.11.2. Доставка сырья и материалов железн...</td>\n",
       "      <td>РЖД ОАО</td>\n",
       "      <td>Транспортные услуги по перевозке грузов код ст...</td>\n",
       "      <td>25</td>\n",
       "      <td>100000</td>\n",
       "      <td>СТК</td>\n",
       "      <td>98462799</td>\n",
       "    </tr>\n",
       "    <tr>\n",
       "      <th>0</th>\n",
       "      <td>07.09.2022 2:00:00</td>\n",
       "      <td>Поступление (акт, накладная, УПД) 00BE-088207 ...</td>\n",
       "      <td>Цех_Шелехов ОП №2</td>\n",
       "      <td>25.05.11.2. Доставка сырья и материалов железн...</td>\n",
       "      <td>РЖД ОАО</td>\n",
       "      <td>Транспортные услуги по перевозке грузов код ст...</td>\n",
       "      <td>25</td>\n",
       "      <td>100000</td>\n",
       "      <td>СТК</td>\n",
       "      <td>60591260</td>\n",
       "    </tr>\n",
       "    <tr>\n",
       "      <th>0</th>\n",
       "      <td>07.09.2022 2:00:00</td>\n",
       "      <td>Поступление (акт, накладная, УПД) 00BE-088207 ...</td>\n",
       "      <td>Цех_Шелехов ОП №2</td>\n",
       "      <td>25.05.11.2. Доставка сырья и материалов железн...</td>\n",
       "      <td>РЖД ОАО</td>\n",
       "      <td>Транспортные услуги по перевозке грузов код ст...</td>\n",
       "      <td>25</td>\n",
       "      <td>100000</td>\n",
       "      <td>СТК</td>\n",
       "      <td>62175682</td>\n",
       "    </tr>\n",
       "    <tr>\n",
       "      <th>0</th>\n",
       "      <td>07.09.2022 2:00:00</td>\n",
       "      <td>Поступление (акт, накладная, УПД) 00BE-088207 ...</td>\n",
       "      <td>Цех_Шелехов ОП №2</td>\n",
       "      <td>25.05.11.2. Доставка сырья и материалов железн...</td>\n",
       "      <td>РЖД ОАО</td>\n",
       "      <td>Транспортные услуги по перевозке грузов код ст...</td>\n",
       "      <td>25</td>\n",
       "      <td>100000</td>\n",
       "      <td>СТК</td>\n",
       "      <td>65397853</td>\n",
       "    </tr>\n",
       "  </tbody>\n",
       "</table>\n",
       "</div>"
      ],
      "text/plain": [
       "                 Дата                                           Документ  \\\n",
       "0  07.09.2022 2:00:00  Поступление (акт, накладная, УПД) 00BE-088207 ...   \n",
       "0  07.09.2022 2:00:00  Поступление (акт, накладная, УПД) 00BE-088207 ...   \n",
       "0  07.09.2022 2:00:00  Поступление (акт, накладная, УПД) 00BE-088207 ...   \n",
       "0  07.09.2022 2:00:00  Поступление (акт, накладная, УПД) 00BE-088207 ...   \n",
       "0  07.09.2022 2:00:00  Поступление (акт, накладная, УПД) 00BE-088207 ...   \n",
       "\n",
       "    Подразделение Дт                                       Субконто1 Дт  \\\n",
       "0  Цех_Шелехов ОП №2  25.05.11.2. Доставка сырья и материалов железн...   \n",
       "0  Цех_Шелехов ОП №2  25.05.11.2. Доставка сырья и материалов железн...   \n",
       "0  Цех_Шелехов ОП №2  25.05.11.2. Доставка сырья и материалов железн...   \n",
       "0  Цех_Шелехов ОП №2  25.05.11.2. Доставка сырья и материалов железн...   \n",
       "0  Цех_Шелехов ОП №2  25.05.11.2. Доставка сырья и материалов железн...   \n",
       "\n",
       "  Субконто1 Кт                                         Содержание  Счет Дт  \\\n",
       "0      РЖД ОАО  Транспортные услуги по перевозке грузов код ст...       25   \n",
       "0      РЖД ОАО  Транспортные услуги по перевозке грузов код ст...       25   \n",
       "0      РЖД ОАО  Транспортные услуги по перевозке грузов код ст...       25   \n",
       "0      РЖД ОАО  Транспортные услуги по перевозке грузов код ст...       25   \n",
       "0      РЖД ОАО  Транспортные услуги по перевозке грузов код ст...       25   \n",
       "\n",
       "    Сумма Unnamed: 8 Номер вагона  \n",
       "0  100000        СТК     98467244  \n",
       "0  100000        СТК     98462799  \n",
       "0  100000        СТК     60591260  \n",
       "0  100000        СТК     62175682  \n",
       "0  100000        СТК     65397853  "
      ]
     },
     "execution_count": 33,
     "metadata": {},
     "output_type": "execute_result"
    }
   ],
   "source": [
    "df_2['Номер вагона'] = df_2['Содержание'].apply(car_number_regexp)\n",
    "df_2 = df_2.explode(column='Номер вагона')\n",
    "df_2.head()"
   ]
  },
  {
   "attachments": {},
   "cell_type": "markdown",
   "metadata": {},
   "source": [
    "---"
   ]
  },
  {
   "attachments": {},
   "cell_type": "markdown",
   "metadata": {},
   "source": [
    "### Как-то так в постгре будет"
   ]
  },
  {
   "cell_type": "code",
   "execution_count": 34,
   "metadata": {},
   "outputs": [
    {
     "data": {
      "text/plain": [
       "'\\nSELECT \\n    *\\n\\tSUBSTRING(\"Содержание\" from \\'[0-9]{8}\\') as cart_number\\nFROM \\n    траляля\\n'"
      ]
     },
     "execution_count": 34,
     "metadata": {},
     "output_type": "execute_result"
    }
   ],
   "source": [
    "'''\n",
    "SELECT \n",
    "    *,\n",
    "\tSUBSTRING(\"Содержание\" from '[0-9]{8}') as cart_number\n",
    "FROM \n",
    "    траляля\n",
    "'''"
   ]
  }
 ],
 "metadata": {
  "kernelspec": {
   "display_name": "ds",
   "language": "python",
   "name": "python3"
  },
  "language_info": {
   "codemirror_mode": {
    "name": "ipython",
    "version": 3
   },
   "file_extension": ".py",
   "mimetype": "text/x-python",
   "name": "python",
   "nbconvert_exporter": "python",
   "pygments_lexer": "ipython3",
   "version": "3.11.0"
  },
  "orig_nbformat": 4,
  "vscode": {
   "interpreter": {
    "hash": "d40a6ae76423cf5fae73028028fb017d8630dd167584993d74bc99181da5a036"
   }
  }
 },
 "nbformat": 4,
 "nbformat_minor": 2
}
