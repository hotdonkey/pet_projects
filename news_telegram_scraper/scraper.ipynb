{
 "cells": [
  {
   "cell_type": "code",
   "execution_count": 19,
   "metadata": {},
   "outputs": [],
   "source": [
    "from telethon import TelegramClient\n",
    "from telethon.errors import SessionPasswordNeededError\n",
    "\n",
    "import pandas as pd\n",
    "\n",
    "from telethon.tl.functions.channels import GetParticipantsRequest\n",
    "from telethon.tl.types import ChannelParticipantsSearch\n",
    "\n",
    "\n",
    "from telethon.tl.functions.messages import GetHistoryRequest\n",
    "from telethon.tl.types import PeerChannel\n",
    "\n",
    "from telethon import TelegramClient\n",
    "from telethon.tl.functions.channels import GetFullChannelRequest\n",
    "from telethon.tl.functions.messages import GetHistoryRequest\n",
    "from telethon.tl.types import InputChannel"
   ]
  },
  {
   "cell_type": "code",
   "execution_count": 20,
   "metadata": {},
   "outputs": [],
   "source": [
    "params = pd.read_csv('./params_tg.csv', sep=';')"
   ]
  },
  {
   "cell_type": "code",
   "execution_count": 21,
   "metadata": {},
   "outputs": [],
   "source": [
    "api_id = params['api_id'].values[0]\n",
    "api_hash = str(params['api_hash'].values[0])\n",
    "\n",
    "phone = '+' + str(params['phone'].values[0])\n",
    "username = params['username'].values[0]"
   ]
  },
  {
   "cell_type": "code",
   "execution_count": 22,
   "metadata": {},
   "outputs": [
    {
     "name": "stdout",
     "output_type": "stream",
     "text": [
      "Client Created\n"
     ]
    }
   ],
   "source": [
    "client = TelegramClient(username, api_id, api_hash)\n",
    "await client.start()\n",
    "print(\"Client Created\")\n",
    "\n",
    "# Ensure you're authorized\n",
    "if not await client.is_user_authorized():\n",
    "    await client.send_code_request(phone)\n",
    "    try:\n",
    "        await client.sign_in(phone, input('Enter the code: '))\n",
    "    except SessionPasswordNeededError:\n",
    "        await client.sign_in(password=input('Password: '))"
   ]
  },
  {
   "cell_type": "code",
   "execution_count": 23,
   "metadata": {},
   "outputs": [],
   "source": [
    "chats = []\n",
    "last_date = None\n",
    "size_chats = 200\n",
    "groups=[]"
   ]
  },
  {
   "cell_type": "code",
   "execution_count": 24,
   "metadata": {},
   "outputs": [],
   "source": [
    "channels = 'Топор Live'"
   ]
  },
  {
   "cell_type": "code",
   "execution_count": 25,
   "metadata": {},
   "outputs": [
    {
     "ename": "ValueError",
     "evalue": "Cannot find any entity corresponding to \"Топор Live\"",
     "output_type": "error",
     "traceback": [
      "\u001b[0;31m---------------------------------------------------------------------------\u001b[0m",
      "\u001b[0;31mValueError\u001b[0m                                Traceback (most recent call last)",
      "Cell \u001b[0;32mIn[25], line 2\u001b[0m\n\u001b[1;32m      1\u001b[0m \u001b[39m# Получение информации о канале\u001b[39;00m\n\u001b[0;32m----> 2\u001b[0m channel \u001b[39m=\u001b[39m \u001b[39mawait\u001b[39;00m client(GetFullChannelRequest(channel\u001b[39m=\u001b[39mchannels))\n\u001b[1;32m      4\u001b[0m \u001b[39m# Создание объекта InputChannel, который будет использоваться для получения истории сообщений\u001b[39;00m\n\u001b[1;32m      5\u001b[0m input_channel \u001b[39m=\u001b[39m InputChannel(channel\u001b[39m.\u001b[39mfull_chat\u001b[39m.\u001b[39mid, channel\u001b[39m.\u001b[39mfull_chat\u001b[39m.\u001b[39maccess_hash)\n",
      "File \u001b[0;32m~/opt/anaconda3/envs/ds/lib/python3.11/site-packages/telethon/client/users.py:30\u001b[0m, in \u001b[0;36mUserMethods.__call__\u001b[0;34m(self, request, ordered, flood_sleep_threshold)\u001b[0m\n\u001b[1;32m     29\u001b[0m \u001b[39masync\u001b[39;00m \u001b[39mdef\u001b[39;00m \u001b[39m__call__\u001b[39m(\u001b[39mself\u001b[39m: \u001b[39m'\u001b[39m\u001b[39mTelegramClient\u001b[39m\u001b[39m'\u001b[39m, request, ordered\u001b[39m=\u001b[39m\u001b[39mFalse\u001b[39;00m, flood_sleep_threshold\u001b[39m=\u001b[39m\u001b[39mNone\u001b[39;00m):\n\u001b[0;32m---> 30\u001b[0m     \u001b[39mreturn\u001b[39;00m \u001b[39mawait\u001b[39;00m \u001b[39mself\u001b[39m\u001b[39m.\u001b[39m_call(\u001b[39mself\u001b[39m\u001b[39m.\u001b[39m_sender, request, ordered\u001b[39m=\u001b[39mordered)\n",
      "File \u001b[0;32m~/opt/anaconda3/envs/ds/lib/python3.11/site-packages/telethon/client/users.py:39\u001b[0m, in \u001b[0;36mUserMethods._call\u001b[0;34m(self, sender, request, ordered, flood_sleep_threshold)\u001b[0m\n\u001b[1;32m     37\u001b[0m \u001b[39mif\u001b[39;00m \u001b[39mnot\u001b[39;00m \u001b[39misinstance\u001b[39m(r, TLRequest):\n\u001b[1;32m     38\u001b[0m     \u001b[39mraise\u001b[39;00m _NOT_A_REQUEST()\n\u001b[0;32m---> 39\u001b[0m \u001b[39mawait\u001b[39;00m r\u001b[39m.\u001b[39mresolve(\u001b[39mself\u001b[39m, utils)\n\u001b[1;32m     41\u001b[0m \u001b[39m# Avoid making the request if it's already in a flood wait\u001b[39;00m\n\u001b[1;32m     42\u001b[0m \u001b[39mif\u001b[39;00m r\u001b[39m.\u001b[39mCONSTRUCTOR_ID \u001b[39min\u001b[39;00m \u001b[39mself\u001b[39m\u001b[39m.\u001b[39m_flood_waited_requests:\n",
      "File \u001b[0;32m~/opt/anaconda3/envs/ds/lib/python3.11/site-packages/telethon/tl/functions/channels.py:1030\u001b[0m, in \u001b[0;36mGetFullChannelRequest.resolve\u001b[0;34m(self, client, utils)\u001b[0m\n\u001b[1;32m   1029\u001b[0m \u001b[39masync\u001b[39;00m \u001b[39mdef\u001b[39;00m \u001b[39mresolve\u001b[39m(\u001b[39mself\u001b[39m, client, utils):\n\u001b[0;32m-> 1030\u001b[0m     \u001b[39mself\u001b[39m\u001b[39m.\u001b[39mchannel \u001b[39m=\u001b[39m utils\u001b[39m.\u001b[39mget_input_channel(\u001b[39mawait\u001b[39;00m client\u001b[39m.\u001b[39mget_input_entity(\u001b[39mself\u001b[39m\u001b[39m.\u001b[39mchannel))\n",
      "File \u001b[0;32m~/opt/anaconda3/envs/ds/lib/python3.11/site-packages/telethon/client/users.py:437\u001b[0m, in \u001b[0;36mUserMethods.get_input_entity\u001b[0;34m(self, peer)\u001b[0m\n\u001b[1;32m    434\u001b[0m \u001b[39m# Only network left to try\u001b[39;00m\n\u001b[1;32m    435\u001b[0m \u001b[39mif\u001b[39;00m \u001b[39misinstance\u001b[39m(peer, \u001b[39mstr\u001b[39m):\n\u001b[1;32m    436\u001b[0m     \u001b[39mreturn\u001b[39;00m utils\u001b[39m.\u001b[39mget_input_peer(\n\u001b[0;32m--> 437\u001b[0m         \u001b[39mawait\u001b[39;00m \u001b[39mself\u001b[39m\u001b[39m.\u001b[39m_get_entity_from_string(peer))\n\u001b[1;32m    439\u001b[0m \u001b[39m# If we're a bot and the user has messaged us privately users.getUsers\u001b[39;00m\n\u001b[1;32m    440\u001b[0m \u001b[39m# will work with access_hash = 0. Similar for channels.getChannels.\u001b[39;00m\n\u001b[1;32m    441\u001b[0m \u001b[39m# If we're not a bot but the user is in our contacts, it seems to work\u001b[39;00m\n\u001b[1;32m    442\u001b[0m \u001b[39m# regardless. These are the only two special-cased requests.\u001b[39;00m\n\u001b[1;32m    443\u001b[0m peer \u001b[39m=\u001b[39m utils\u001b[39m.\u001b[39mget_peer(peer)\n",
      "File \u001b[0;32m~/opt/anaconda3/envs/ds/lib/python3.11/site-packages/telethon/client/users.py:574\u001b[0m, in \u001b[0;36mUserMethods._get_entity_from_string\u001b[0;34m(self, string)\u001b[0m\n\u001b[1;32m    571\u001b[0m     \u001b[39mexcept\u001b[39;00m \u001b[39mValueError\u001b[39;00m:\n\u001b[1;32m    572\u001b[0m         \u001b[39mpass\u001b[39;00m\n\u001b[0;32m--> 574\u001b[0m \u001b[39mraise\u001b[39;00m \u001b[39mValueError\u001b[39;00m(\n\u001b[1;32m    575\u001b[0m     \u001b[39m'\u001b[39m\u001b[39mCannot find any entity corresponding to \u001b[39m\u001b[39m\"\u001b[39m\u001b[39m{}\u001b[39;00m\u001b[39m\"\u001b[39m\u001b[39m'\u001b[39m\u001b[39m.\u001b[39mformat(string)\n\u001b[1;32m    576\u001b[0m )\n",
      "\u001b[0;31mValueError\u001b[0m: Cannot find any entity corresponding to \"Топор Live\""
     ]
    }
   ],
   "source": [
    "# Получение информации о канале\n",
    "channel = await client(GetFullChannelRequest(channel=channels))\n",
    "\n",
    "# Создание объекта InputChannel, который будет использоваться для получения истории сообщений\n",
    "input_channel = InputChannel(channel.full_chat.id, channel.full_chat.access_hash)\n",
    "\n",
    "# Получение истории сообщений из канала\n",
    "messages = await client(GetHistoryRequest(peer=input_channel, limit=1000))"
   ]
  },
  {
   "cell_type": "code",
   "execution_count": 18,
   "metadata": {},
   "outputs": [
    {
     "data": {
      "text/plain": [
       "<Future pending cb=[shield.<locals>._outer_done_callback() at /Users/kirillkuznecov/opt/anaconda3/envs/ds/lib/python3.11/asyncio/tasks.py:898]>"
      ]
     },
     "execution_count": 18,
     "metadata": {},
     "output_type": "execute_result"
    }
   ],
   "source": [
    "client.disconnect()"
   ]
  },
  {
   "cell_type": "code",
   "execution_count": null,
   "metadata": {},
   "outputs": [],
   "source": [
    "result = await client(GetDialogsRequest(\n",
    "            offset_date=last_date,\n",
    "            offset_id=0,\n",
    "            offset_peer=InputPeerEmpty(),\n",
    "            limit=size_chats,\n",
    "            hash = 0\n",
    "        ))\n",
    "chats.extend(result.chats)"
   ]
  },
  {
   "cell_type": "code",
   "execution_count": null,
   "metadata": {},
   "outputs": [],
   "source": [
    "chats"
   ]
  },
  {
   "cell_type": "code",
   "execution_count": null,
   "metadata": {},
   "outputs": [],
   "source": [
    "for g in chats:\n",
    "    print(g.title)\n",
    "\n"
   ]
  },
  {
   "cell_type": "code",
   "execution_count": null,
   "metadata": {},
   "outputs": [],
   "source": [
    "all_messages = []\n",
    "offset_id = 0\n",
    "limit = 100\n",
    "total_messages = 0\n",
    "total_count_limit = 100"
   ]
  },
  {
   "cell_type": "code",
   "execution_count": null,
   "metadata": {},
   "outputs": [],
   "source": [
    "while True:\n",
    "    history = await client(GetHistoryRequest(\n",
    "        peer='Zефирки',\n",
    "        offset_id=offset_id,\n",
    "        offset_date=None,\n",
    "        add_offset=0,\n",
    "        limit=limit,\n",
    "        max_id=0,\n",
    "        min_id=0,\n",
    "        hash=0\n",
    "    ))\n",
    "    if not history.messages:\n",
    "        break\n",
    "    messages = history.messages\n",
    "    for message in messages:\n",
    "        all_messages.append(message.to_dict())\n",
    "    offset_id = messages[len(messages) - 1].id\n",
    "    if total_count_limit != 0 and total_messages >= total_count_limit:\n",
    "        break\n"
   ]
  },
  {
   "cell_type": "code",
   "execution_count": null,
   "metadata": {},
   "outputs": [],
   "source": [
    "all_messages[1]['message']"
   ]
  },
  {
   "cell_type": "code",
   "execution_count": null,
   "metadata": {},
   "outputs": [],
   "source": [
    "for i in range(100):\n",
    "    try:\n",
    "        print(all_messages[i]['message'])\n",
    "    except KeyError:\n",
    "        pass\n",
    "    "
   ]
  },
  {
   "cell_type": "code",
   "execution_count": null,
   "metadata": {},
   "outputs": [],
   "source": []
  }
 ],
 "metadata": {
  "kernelspec": {
   "display_name": "ds",
   "language": "python",
   "name": "python3"
  },
  "language_info": {
   "codemirror_mode": {
    "name": "ipython",
    "version": 3
   },
   "file_extension": ".py",
   "mimetype": "text/x-python",
   "name": "python",
   "nbconvert_exporter": "python",
   "pygments_lexer": "ipython3",
   "version": "3.11.0"
  },
  "orig_nbformat": 4
 },
 "nbformat": 4,
 "nbformat_minor": 2
}
