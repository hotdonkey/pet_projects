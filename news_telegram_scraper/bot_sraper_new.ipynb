{
 "cells": [
  {
   "cell_type": "code",
   "execution_count": 3,
   "metadata": {},
   "outputs": [],
   "source": [
    "import telebot\n",
    "import requests\n",
    "from bs4 import BeautifulSoup\n",
    "import openpyxl\n",
    "\n",
    "bot = telebot.TeleBot('AAEV_lK5gloGpAPiQRpfbS42cgYZfm2xjmo')\n",
    "\n",
    "\n",
    "def get_news_from_channels(chat_id, channels):\n",
    "    # Создаем новый Excel-файл\n",
    "    wb = openpyxl.Workbook()\n",
    "    sheet = wb.active\n",
    "\n",
    "    # Для каждого канала пользователя\n",
    "    for channel in channels:\n",
    "        # Получаем последние 10 сообщений\n",
    "        url = f'https://t.me/{channel}?before=1'\n",
    "        response = requests.get(url)\n",
    "        soup = BeautifulSoup(response.text, 'html.parser')\n",
    "        messages = soup.find_all('div', {'class': 'tgme_widget_message_bubble'})\n",
    "\n",
    "        # Добавляем заголовки в таблицу\n",
    "        sheet.append([f'Новости из канала {channel}'])\n",
    "        sheet.append(['Заголовок', 'Описание'])\n",
    "\n",
    "        # Добавляем новости в таблицу\n",
    "        for message in messages:\n",
    "            title = message.find('div', {'class': 'tgme_widget_message_text'}).text.strip()\n",
    "            description = message.find('div', {'class': 'tgme_widget_message_text'}).find_next('div').text.strip()\n",
    "            sheet.append([title, description])\n",
    "\n",
    "    # Сохраняем файл и отправляем его пользователю\n",
    "    wb.save('news.xlsx')\n",
    "    with open('news.xlsx', 'rb') as file:\n",
    "        bot.send_document(chat_id, file)\n",
    "\n",
    "\n",
    "@bot.message_handler(commands=['get_news'])\n",
    "def handle_get_news(message):\n",
    "    # Запрашиваем у пользователя список каналов\n",
    "    bot.send_message(message.chat.id, 'Введите список каналов через запятую:')\n",
    "    bot.register_next_step_handler(message, lambda m: get_news_from_channels(m.chat.id, m.text.split(',')))\n",
    "\n"
   ]
  },
  {
   "cell_type": "code",
   "execution_count": null,
   "metadata": {},
   "outputs": [],
   "source": []
  }
 ],
 "metadata": {
  "kernelspec": {
   "display_name": "ds",
   "language": "python",
   "name": "python3"
  },
  "language_info": {
   "codemirror_mode": {
    "name": "ipython",
    "version": 3
   },
   "file_extension": ".py",
   "mimetype": "text/x-python",
   "name": "python",
   "nbconvert_exporter": "python",
   "pygments_lexer": "ipython3",
   "version": "3.11.0"
  },
  "orig_nbformat": 4
 },
 "nbformat": 4,
 "nbformat_minor": 2
}
