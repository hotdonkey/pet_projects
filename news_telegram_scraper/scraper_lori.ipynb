{
 "cells": [
  {
   "cell_type": "code",
   "execution_count": null,
   "metadata": {},
   "outputs": [],
   "source": [
    "import pandas as pd\n",
    "from bs4 import BeautifulSoup\n",
    "from telethon import TelegramClient, events"
   ]
  },
  {
   "cell_type": "code",
   "execution_count": null,
   "metadata": {},
   "outputs": [],
   "source": [
    "params = pd.read_csv('./params_tg.csv', sep=';')"
   ]
  },
  {
   "cell_type": "code",
   "execution_count": null,
   "metadata": {},
   "outputs": [],
   "source": [
    "# Подключаемся к Telegram API\n",
    "api_id = params['api_id'].values[0]\n",
    "api_hash = str(params['api_hash'].values[0])\n",
    "phone = '+' + str(params['phone'].values[0])\n",
    "username = params['username'].values[0]\n",
    "\n",
    "client = TelegramClient('session_name', api_id, api_hash)"
   ]
  },
  {
   "cell_type": "code",
   "execution_count": null,
   "metadata": {},
   "outputs": [],
   "source": [
    "# Определяем список каналов, которые нужно парсить\n",
    "channels = ['Топор Live']"
   ]
  },
  {
   "cell_type": "code",
   "execution_count": null,
   "metadata": {},
   "outputs": [],
   "source": [
    "# Обработчик событий для получения новых сообщений\n",
    "@client.on(events.NewMessage(chats=channels))\n",
    "async def handle_new_message (event):\n",
    "    # Получаем текст сообщения\n",
    "    message_text = event.message.message\n",
    "    print(message_text)"
   ]
  },
  {
   "cell_type": "code",
   "execution_count": 13,
   "metadata": {},
   "outputs": [
    {
     "data": {
      "text/plain": [
       "<coroutine object UpdateMethods._run_until_disconnected at 0x137cf50e0>"
      ]
     },
     "execution_count": 13,
     "metadata": {},
     "output_type": "execute_result"
    }
   ],
   "source": [
    "# Делаем что-то с текстом сообщения, например сохраняем его в файл\n",
    "# Запускаем клиент\n",
    "client.start\n",
    "# Запускаем цикл обработки событий\n",
    "client.run_until_disconnected()"
   ]
  },
  {
   "cell_type": "code",
   "execution_count": 14,
   "metadata": {},
   "outputs": [
    {
     "data": {
      "text/plain": [
       "<Future pending cb=[shield.<locals>._outer_done_callback() at /Users/kirillkuznecov/opt/anaconda3/envs/ds/lib/python3.11/asyncio/tasks.py:898]>"
      ]
     },
     "execution_count": 14,
     "metadata": {},
     "output_type": "execute_result"
    }
   ],
   "source": [
    "client.disconnect()"
   ]
  },
  {
   "cell_type": "code",
   "execution_count": null,
   "metadata": {},
   "outputs": [],
   "source": []
  },
  {
   "attachments": {},
   "cell_type": "markdown",
   "metadata": {},
   "source": [
    "---"
   ]
  },
  {
   "cell_type": "code",
   "execution_count": 8,
   "metadata": {},
   "outputs": [],
   "source": [
    "# Для парсинга новостных телеграм-каналов на Python, вы можете использовать Telethon - \n",
    "# Python 3 MTProto библиотеку, которая позволяет вам взаимодействовать с API Телеграмма. \n",
    "\n",
    "import pandas as pd\n",
    "from bs4 import BeautifulSoup\n",
    "\n",
    "from telethon import TelegramClient\n",
    "from telethon.tl.functions.channels import GetFullChannelRequest\n",
    "from telethon.tl.functions.messages import GetHistoryRequest\n",
    "from telethon.tl.types import InputChannel\n",
    "import csv\n",
    "\n"
   ]
  },
  {
   "cell_type": "code",
   "execution_count": 9,
   "metadata": {},
   "outputs": [],
   "source": [
    "params = pd.read_csv('./params_tg.csv', sep=';')"
   ]
  },
  {
   "cell_type": "code",
   "execution_count": 10,
   "metadata": {},
   "outputs": [],
   "source": [
    "# Подключаемся к Telegram API\n",
    "api_id = params['api_id'].values[0]\n",
    "api_hash = str(params['api_hash'].values[0])\n",
    "phone = '+' + str(params['phone'].values[0])\n",
    "username = params['username'].values[0]\n",
    "\n",
    "client = TelegramClient('session_name', api_id, api_hash)"
   ]
  },
  {
   "cell_type": "code",
   "execution_count": 11,
   "metadata": {},
   "outputs": [],
   "source": [
    "channels = ['Топор Live']"
   ]
  },
  {
   "cell_type": "code",
   "execution_count": 12,
   "metadata": {},
   "outputs": [
    {
     "name": "stdout",
     "output_type": "stream",
     "text": [
      "Signed in successfully as _hotdonkey\n"
     ]
    },
    {
     "ename": "RuntimeError",
     "evalue": "This event loop is already running",
     "output_type": "error",
     "traceback": [
      "\u001b[0;31m---------------------------------------------------------------------------\u001b[0m",
      "\u001b[0;31mRuntimeError\u001b[0m                              Traceback (most recent call last)",
      "Cell \u001b[0;32mIn[12], line 29\u001b[0m\n\u001b[1;32m     27\u001b[0m \u001b[39m# Запуск асинхронной функции\u001b[39;00m\n\u001b[1;32m     28\u001b[0m \u001b[39masync\u001b[39;00m \u001b[39mwith\u001b[39;00m client:\n\u001b[0;32m---> 29\u001b[0m     client\u001b[39m.\u001b[39;49mloop\u001b[39m.\u001b[39;49mrun_until_complete(main())\n\u001b[1;32m     31\u001b[0m \u001b[39m# В этом примере мы используем метод `GetFullChannelRequest`, чтобы получить информацию о канале, затем создаем объект `InputChannel`, \u001b[39;00m\n\u001b[1;32m     32\u001b[0m \u001b[39m# который используется для получения истории сообщений с помощью метода `GetHistoryRequest`. Затем мы сохраняем текст новостей в csv-файл с помощью модуля csv.\u001b[39;00m\n\u001b[1;32m     33\u001b[0m \n\u001b[1;32m     34\u001b[0m \u001b[39m# Обратите внимание, что для использования Telethon вам нужно зарегистрироваться в Telegram API и получить свой `api_id` и `api_hash`. \u001b[39;00m\n\u001b[1;32m     35\u001b[0m \u001b[39m# Также не забудьте заменить `YOUR_PHONE_NUMBER` на свой номер телефона и `CHANNEL_NAME_OR_ID` на имя или ID канала, который вы хотите спарсить.\u001b[39;00m\n",
      "File \u001b[0;32m~/opt/anaconda3/envs/ds/lib/python3.11/asyncio/base_events.py:626\u001b[0m, in \u001b[0;36mBaseEventLoop.run_until_complete\u001b[0;34m(self, future)\u001b[0m\n\u001b[1;32m    615\u001b[0m \u001b[39m\u001b[39m\u001b[39m\"\"\"Run until the Future is done.\u001b[39;00m\n\u001b[1;32m    616\u001b[0m \n\u001b[1;32m    617\u001b[0m \u001b[39mIf the argument is a coroutine, it is wrapped in a Task.\u001b[39;00m\n\u001b[0;32m   (...)\u001b[0m\n\u001b[1;32m    623\u001b[0m \u001b[39mReturn the Future's result, or raise its exception.\u001b[39;00m\n\u001b[1;32m    624\u001b[0m \u001b[39m\"\"\"\u001b[39;00m\n\u001b[1;32m    625\u001b[0m \u001b[39mself\u001b[39m\u001b[39m.\u001b[39m_check_closed()\n\u001b[0;32m--> 626\u001b[0m \u001b[39mself\u001b[39;49m\u001b[39m.\u001b[39;49m_check_running()\n\u001b[1;32m    628\u001b[0m new_task \u001b[39m=\u001b[39m \u001b[39mnot\u001b[39;00m futures\u001b[39m.\u001b[39misfuture(future)\n\u001b[1;32m    629\u001b[0m future \u001b[39m=\u001b[39m tasks\u001b[39m.\u001b[39mensure_future(future, loop\u001b[39m=\u001b[39m\u001b[39mself\u001b[39m)\n",
      "File \u001b[0;32m~/opt/anaconda3/envs/ds/lib/python3.11/asyncio/base_events.py:586\u001b[0m, in \u001b[0;36mBaseEventLoop._check_running\u001b[0;34m(self)\u001b[0m\n\u001b[1;32m    584\u001b[0m \u001b[39mdef\u001b[39;00m \u001b[39m_check_running\u001b[39m(\u001b[39mself\u001b[39m):\n\u001b[1;32m    585\u001b[0m     \u001b[39mif\u001b[39;00m \u001b[39mself\u001b[39m\u001b[39m.\u001b[39mis_running():\n\u001b[0;32m--> 586\u001b[0m         \u001b[39mraise\u001b[39;00m \u001b[39mRuntimeError\u001b[39;00m(\u001b[39m'\u001b[39m\u001b[39mThis event loop is already running\u001b[39m\u001b[39m'\u001b[39m)\n\u001b[1;32m    587\u001b[0m     \u001b[39mif\u001b[39;00m events\u001b[39m.\u001b[39m_get_running_loop() \u001b[39mis\u001b[39;00m \u001b[39mnot\u001b[39;00m \u001b[39mNone\u001b[39;00m:\n\u001b[1;32m    588\u001b[0m         \u001b[39mraise\u001b[39;00m \u001b[39mRuntimeError\u001b[39;00m(\n\u001b[1;32m    589\u001b[0m             \u001b[39m'\u001b[39m\u001b[39mCannot run the event loop while another loop is running\u001b[39m\u001b[39m'\u001b[39m)\n",
      "\u001b[0;31mRuntimeError\u001b[0m: This event loop is already running"
     ]
    }
   ],
   "source": [
    "client = TelegramClient('session_name', api_id, api_hash)\n",
    "\n",
    "async def main():\n",
    "    # Подключение к API Телеграмма\n",
    "    await client.start(phone)\n",
    "\n",
    "    # Получение информации о канале\n",
    "    channel = await client(GetFullChannelRequest(channel=channels))\n",
    "\n",
    "    # Создание объекта InputChannel, который будет использоваться для получения истории сообщений\n",
    "    input_channel = InputChannel(channel.full_chat.id, channel.full_chat.access_hash)\n",
    "\n",
    "    # Получение истории сообщений из канала\n",
    "    messages = await client(GetHistoryRequest(peer=input_channel, limit=1000))\n",
    "\n",
    "    # Сохранение текста новостей в csv-файл\n",
    "    with open('news.csv', 'w', newline='', encoding='utf-8') as file:\n",
    "        writer = csv.writer(file)\n",
    "        writer.writerow([\"Date\", \"Text\"])\n",
    "        for message in messages.messages:\n",
    "            if message.message:\n",
    "                writer.writerow([message.date.strftime('%Y-%m-%d %H:%M:%S'), message.message])\n",
    "\n",
    "    # Остановка сессии клиента\n",
    "    await client.disconnect()\n",
    "\n",
    "# Запуск асинхронной функции\n",
    "async with client:\n",
    "    client.loop.run_until_complete(main())\n",
    "\n",
    "# В этом примере мы используем метод `GetFullChannelRequest`, чтобы получить информацию о канале, затем создаем объект `InputChannel`, \n",
    "# который используется для получения истории сообщений с помощью метода `GetHistoryRequest`. Затем мы сохраняем текст новостей в csv-файл с помощью модуля csv.\n",
    "\n",
    "# Обратите внимание, что для использования Telethon вам нужно зарегистрироваться в Telegram API и получить свой `api_id` и `api_hash`. \n",
    "# Также не забудьте заменить `YOUR_PHONE_NUMBER` на свой номер телефона и `CHANNEL_NAME_OR_ID` на имя или ID канала, который вы хотите спарсить."
   ]
  },
  {
   "cell_type": "code",
   "execution_count": null,
   "metadata": {},
   "outputs": [],
   "source": []
  }
 ],
 "metadata": {
  "kernelspec": {
   "display_name": "ds",
   "language": "python",
   "name": "python3"
  },
  "language_info": {
   "codemirror_mode": {
    "name": "ipython",
    "version": 3
   },
   "file_extension": ".py",
   "mimetype": "text/x-python",
   "name": "python",
   "nbconvert_exporter": "python",
   "pygments_lexer": "ipython3",
   "version": "3.11.0"
  },
  "orig_nbformat": 4
 },
 "nbformat": 4,
 "nbformat_minor": 2
}
