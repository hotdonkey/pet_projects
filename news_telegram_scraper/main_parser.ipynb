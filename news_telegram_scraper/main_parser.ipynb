{
 "cells": [
  {
   "cell_type": "code",
   "execution_count": null,
   "metadata": {},
   "outputs": [],
   "source": [
    "from telethon import TelegramClient, events, sync\n",
    "from telethon.tl.functions.messages import GetHistoryRequest\n",
    "from telethon.tl.types import PeerChannel\n",
    "import pandas as pd"
   ]
  },
  {
   "cell_type": "code",
   "execution_count": null,
   "metadata": {},
   "outputs": [],
   "source": [
    "params = pd.read_csv('./params_tg.csv', sep=';')"
   ]
  },
  {
   "cell_type": "code",
   "execution_count": null,
   "metadata": {},
   "outputs": [],
   "source": [
    "api_id = params['api_id'].values[0]\n",
    "api_hash = str(params['api_hash'].values[0])\n",
    "\n",
    "phone = '+' + str(params['phone'].values[0])\n",
    "username = params['username'].values[0]\n",
    "\n",
    "client = TelegramClient('session_name', api_id, api_hash)\n",
    "await client.start()\n",
    "print(\"Client Created\")\n",
    "client.run_until_disconnected()"
   ]
  },
  {
   "cell_type": "code",
   "execution_count": null,
   "metadata": {},
   "outputs": [],
   "source": [
    "channels = await client.get_dialogs()\n",
    "news_channels = ['Коммерсантъ'] # список каналов, из которых мы хотим получать новости\n",
    "news_channel_ids = []\n",
    "for channel in channels:\n",
    "    if channel.title in news_channels:\n",
    "        news_channel_ids.append(channel.id)"
   ]
  },
  {
   "cell_type": "code",
   "execution_count": null,
   "metadata": {},
   "outputs": [],
   "source": [
    "channel_source = dict(zip(news_channel_ids, news_channels))"
   ]
  },
  {
   "cell_type": "code",
   "execution_count": null,
   "metadata": {},
   "outputs": [],
   "source": [
    "news = []\n",
    "for channel_id in news_channel_ids:\n",
    "    channel = PeerChannel(channel_id)\n",
    "    messages = await client(GetHistoryRequest(\n",
    "        peer=channel,\n",
    "        limit=100, # количество сообщений, которые мы хотим получить\n",
    "        offset_date=None,\n",
    "        offset_id=0,\n",
    "        max_id=0,\n",
    "        min_id=0,\n",
    "        add_offset=0,\n",
    "        hash=0))\n",
    "    for message in messages.messages:\n",
    "        news.append({\n",
    "            'date': message.date,\n",
    "            'text': message.message,\n",
    "            'source': channel_id\n",
    "        })"
   ]
  },
  {
   "cell_type": "code",
   "execution_count": null,
   "metadata": {},
   "outputs": [],
   "source": [
    "df = pd.DataFrame(news)"
   ]
  },
  {
   "cell_type": "code",
   "execution_count": null,
   "metadata": {},
   "outputs": [],
   "source": [
    "df['source'] = df['source'].map(channel_source)\n",
    "df['text'] = df['text'].apply(lambda x: x.replace('\\n', ' '))"
   ]
  },
  {
   "cell_type": "code",
   "execution_count": null,
   "metadata": {},
   "outputs": [],
   "source": [
    "client.disconnect()"
   ]
  },
  {
   "cell_type": "code",
   "execution_count": null,
   "metadata": {},
   "outputs": [],
   "source": [
    "df"
   ]
  },
  {
   "cell_type": "code",
   "execution_count": null,
   "metadata": {},
   "outputs": [],
   "source": []
  }
 ],
 "metadata": {
  "kernelspec": {
   "display_name": "ds",
   "language": "python",
   "name": "python3"
  },
  "language_info": {
   "codemirror_mode": {
    "name": "ipython",
    "version": 3
   },
   "file_extension": ".py",
   "mimetype": "text/x-python",
   "name": "python",
   "nbconvert_exporter": "python",
   "pygments_lexer": "ipython3",
   "version": "3.11.0"
  },
  "orig_nbformat": 4
 },
 "nbformat": 4,
 "nbformat_minor": 2
}
