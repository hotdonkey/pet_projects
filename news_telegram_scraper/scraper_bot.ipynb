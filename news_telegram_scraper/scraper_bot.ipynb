{
 "cells": [
  {
   "attachments": {},
   "cell_type": "markdown",
   "metadata": {},
   "source": [
    "1. Установите библиотеку python-telegram-bot с помощью команды pip install python-telegram-bot.\n",
    "2. Создайте бота в Telegram, следуя инструкциям, которые я описал ранее. Получите токен авторизации бота.\n",
    "3. Создайте новый файл с расширением .py и импортируйте необходимые библиотеки:"
   ]
  },
  {
   "cell_type": "code",
   "execution_count": 1,
   "metadata": {},
   "outputs": [
    {
     "ename": "ImportError",
     "evalue": "cannot import name 'Filters' from 'telegram.ext' (/Users/kirillkuznecov/opt/anaconda3/envs/ds/lib/python3.11/site-packages/telegram/ext/__init__.py)",
     "output_type": "error",
     "traceback": [
      "\u001b[0;31m---------------------------------------------------------------------------\u001b[0m",
      "\u001b[0;31mImportError\u001b[0m                               Traceback (most recent call last)",
      "Cell \u001b[0;32mIn[1], line 4\u001b[0m\n\u001b[1;32m      2\u001b[0m \u001b[39mimport\u001b[39;00m \u001b[39mlogging\u001b[39;00m\n\u001b[1;32m      3\u001b[0m \u001b[39mimport\u001b[39;00m \u001b[39mpandas\u001b[39;00m \u001b[39mas\u001b[39;00m \u001b[39mpd\u001b[39;00m\n\u001b[0;32m----> 4\u001b[0m \u001b[39mfrom\u001b[39;00m \u001b[39mtelegram\u001b[39;00m\u001b[39m.\u001b[39;00m\u001b[39mext\u001b[39;00m \u001b[39mimport\u001b[39;00m Updater, CommandHandler, MessageHandler, Filters\n",
      "\u001b[0;31mImportError\u001b[0m: cannot import name 'Filters' from 'telegram.ext' (/Users/kirillkuznecov/opt/anaconda3/envs/ds/lib/python3.11/site-packages/telegram/ext/__init__.py)"
     ]
    }
   ],
   "source": [
    "import telegram\n",
    "import logging\n",
    "import pandas as pd\n",
    "from telegram.ext import Updater, CommandHandler, MessageHandler, Filters\n"
   ]
  },
  {
   "cell_type": "code",
   "execution_count": null,
   "metadata": {},
   "outputs": [],
   "source": [
    "# Для получения списка каналов пользователя используйте метод `getChatMember` с параметром `@me` для получения списка чатов, в которых вы состоите. \n",
    "# Затем вы можете отфильтровать список, чтобы получить только каналы.\n",
    "\n",
    "# Для спарсивания новостей из каналов используйте метод `getUpdates`, чтобы получить список последних обновлений. \n",
    "# Затем вы можете отфильтровать список, чтобы получить только обновления из интересующих вас каналов. Для сохранения новостей в датафрейм вы можете использовать библиотеку `pandas`.\n",
    "\n",
    "# замените <YOUR_TOKEN> на ваш токен бота\n",
    "bot = telegram.Bot(token='6235316081:AAEV_lK5gloGpAPiQRpfbS42cgYZfm2xjmo')\n",
    "\n",
    "# получаем список чатов, в которых состоит пользователь\n",
    "chats = bot.getChatMember(chat_id='@me')\n",
    "\n",
    "# отбираем только каналы\n",
    "channels = [chat for chat in chats if chat.type == 'channel']\n",
    "\n",
    "# список интересующих каналов\n",
    "interesting_channels = ['@channel1', '@channel2']\n",
    "\n",
    "# получаем последние обновления\n",
    "updates = bot.getUpdates()\n",
    "\n",
    "# отбираем только обновления из интересующих каналов\n",
    "interesting_updates = [update for update in updates if update.channel_post and update.channel_post.chat.username in interesting_channels]\n",
    "\n",
    "# сохраняем новости в датафрейм\n",
    "news = pd.DataFrame(columns=['date', 'text'])\n",
    "for update in interesting_updates:\n",
    "    date = update.channel_post.date\n",
    "    text = update.channel_post.text\n",
    "    news = news.append({'date': date, 'text': text}, ignore_index=True)\n"
   ]
  },
  {
   "attachments": {},
   "cell_type": "markdown",
   "metadata": {},
   "source": [
    "4. Настройте логирование:"
   ]
  },
  {
   "cell_type": "code",
   "execution_count": null,
   "metadata": {},
   "outputs": [],
   "source": [
    "logging.basicConfig(format='%(asctime)s - %(name)s - %(levelname)s - %(message)s',\n",
    "                    level=logging.INFO)\n",
    "logger = logging.getLogger(__name__)\n"
   ]
  },
  {
   "attachments": {},
   "cell_type": "markdown",
   "metadata": {},
   "source": [
    "5. Создайте функцию для обработки команды / start:"
   ]
  },
  {
   "cell_type": "code",
   "execution_count": null,
   "metadata": {},
   "outputs": [],
   "source": [
    "def start(update, context):\n",
    "    context.bot.send_message(chat_id=update.effective_chat.id, \n",
    "                             text=\"Привет! Я бот для сбора новостей. Отправь мне ссылку на новостной канал в Telegram.\")"
   ]
  },
  {
   "attachments": {},
   "cell_type": "markdown",
   "metadata": {},
   "source": [
    "6. Создайте функцию для обработки сообщений с ссылкой на канал:"
   ]
  },
  {
   "cell_type": "code",
   "execution_count": null,
   "metadata": {},
   "outputs": [],
   "source": [
    "def get_news(update, context):\n",
    "    channel_link = update.message.text\n",
    "    channel = context.bot.get_chat(chat_id=channel_link)\n",
    "    messages = context.bot.get_chat_messages(chat_id=channel_link)\n",
    "    news_list = []\n",
    "    for message in messages:\n",
    "        news_list.append([message.date, message.text])\n",
    "    df = pd.DataFrame(news_list, columns=[\"Дата\", \"Новость\"])\n",
    "    df.to_excel(\"news.xlsx\")\n",
    "    context.bot.send_message(\n",
    "        chat_id=update.effective_chat.id, text=\"Новости сохранены в файл news.xlsx\")\n"
   ]
  },
  {
   "cell_type": "markdown",
   "metadata": {},
   "source": [
    "7. Создайте функцию main для запуска бота:"
   ]
  },
  {
   "cell_type": "code",
   "execution_count": null,
   "metadata": {},
   "outputs": [],
   "source": [
    "def main():\n",
    "    updater = Updater(token=TOKEN, use_context=True)\n",
    "    dp = updater.dispatcher\n",
    "    dp.add_handler(CommandHandler(\"start\", start))\n",
    "    dp.add_handler(MessageHandler(Filters.regex(r\"https://t.me/.*\"), get_news))\n",
    "    updater.start_polling()\n",
    "    updater.idle()\n"
   ]
  },
  {
   "attachments": {},
   "cell_type": "markdown",
   "metadata": {},
   "source": [
    "8. Запустите бота, вызвав функцию main()."
   ]
  },
  {
   "cell_type": "code",
   "execution_count": null,
   "metadata": {},
   "outputs": [],
   "source": [
    "if __name__ == 'main':\n",
    "    main()"
   ]
  },
  {
   "attachments": {},
   "cell_type": "markdown",
   "metadata": {},
   "source": [
    "Этот бот будет реагировать на команду / start и ожидать от пользователя ссылку на новостной канал в Telegram. После получения ссылки бот соберет все новости из канала и сохранит их в файл news.xlsx."
   ]
  },
  {
   "cell_type": "markdown",
   "metadata": {},
   "source": []
  }
 ],
 "metadata": {
  "kernelspec": {
   "display_name": "ds",
   "language": "python",
   "name": "python3"
  },
  "language_info": {
   "codemirror_mode": {
    "name": "ipython",
    "version": 3
   },
   "file_extension": ".py",
   "mimetype": "text/x-python",
   "name": "python",
   "nbconvert_exporter": "python",
   "pygments_lexer": "ipython3",
   "version": "3.11.0"
  },
  "orig_nbformat": 4
 },
 "nbformat": 4,
 "nbformat_minor": 2
}
