{
 "cells": [
  {
   "cell_type": "code",
   "execution_count": 70,
   "metadata": {},
   "outputs": [],
   "source": [
    "from telethon import TelegramClient, events, sync\n",
    "from telethon.tl.functions.messages import GetHistoryRequest\n",
    "from telethon.tl.types import PeerChannel\n",
    "\n",
    "import pandas as pd\n",
    "\n",
    "from googletrans import Translator\n",
    "from afinn import Afinn"
   ]
  },
  {
   "cell_type": "code",
   "execution_count": 71,
   "metadata": {},
   "outputs": [],
   "source": [
    "params = pd.read_csv('./params_tg.csv', sep=';')"
   ]
  },
  {
   "cell_type": "code",
   "execution_count": 72,
   "metadata": {},
   "outputs": [
    {
     "name": "stdout",
     "output_type": "stream",
     "text": [
      "Client Created\n"
     ]
    },
    {
     "data": {
      "text/plain": [
       "<coroutine object UpdateMethods._run_until_disconnected at 0x136708e40>"
      ]
     },
     "execution_count": 72,
     "metadata": {},
     "output_type": "execute_result"
    }
   ],
   "source": [
    "api_id = params['api_id'].values[0]\n",
    "api_hash = str(params['api_hash'].values[0])\n",
    "\n",
    "phone = '+' + str(params['phone'].values[0])\n",
    "username = params['username'].values[0]\n",
    "\n",
    "client = TelegramClient('session_name', api_id, api_hash)\n",
    "await client.start()\n",
    "print(\"Client Created\")\n",
    "client.run_until_disconnected()"
   ]
  },
  {
   "cell_type": "code",
   "execution_count": 73,
   "metadata": {},
   "outputs": [],
   "source": [
    "channels = await client.get_dialogs()\n",
    "news_channels = ['Коммерсантъ'] # список каналов, из которых мы хотим получать новости\n",
    "news_channel_ids = []\n",
    "for channel in channels:\n",
    "    if channel.title in news_channels:\n",
    "        news_channel_ids.append(channel.id)"
   ]
  },
  {
   "cell_type": "code",
   "execution_count": 74,
   "metadata": {},
   "outputs": [],
   "source": [
    "channel_source = dict(zip(news_channel_ids, news_channels))"
   ]
  },
  {
   "cell_type": "code",
   "execution_count": 75,
   "metadata": {},
   "outputs": [],
   "source": [
    "news = []\n",
    "for channel_id in news_channel_ids:\n",
    "    channel = PeerChannel(channel_id)\n",
    "    messages = await client(GetHistoryRequest(\n",
    "        peer=channel,\n",
    "        limit=100, # количество сообщений, которые мы хотим получить\n",
    "        offset_date=None,\n",
    "        offset_id=0,\n",
    "        max_id=0,\n",
    "        min_id=0,\n",
    "        add_offset=0,\n",
    "        hash=0))\n",
    "    for message in messages.messages:\n",
    "        news.append({\n",
    "            'date': message.date,\n",
    "            'text': message.message,\n",
    "            'source': channel_id\n",
    "        })"
   ]
  },
  {
   "cell_type": "code",
   "execution_count": 76,
   "metadata": {},
   "outputs": [],
   "source": [
    "df = pd.DataFrame(news)"
   ]
  },
  {
   "cell_type": "code",
   "execution_count": 78,
   "metadata": {},
   "outputs": [
    {
     "data": {
      "text/plain": [
       "<Future pending cb=[shield.<locals>._outer_done_callback() at /Users/kirillkuznecov/opt/anaconda3/envs/ds/lib/python3.11/asyncio/tasks.py:898]>"
      ]
     },
     "execution_count": 78,
     "metadata": {},
     "output_type": "execute_result"
    }
   ],
   "source": [
    "client.disconnect()"
   ]
  },
  {
   "cell_type": "code",
   "execution_count": 80,
   "metadata": {},
   "outputs": [],
   "source": [
    "translator = Translator(service_urls=['translate.google.com'])\n",
    "afinn = Afinn()"
   ]
  },
  {
   "cell_type": "code",
   "execution_count": 81,
   "metadata": {},
   "outputs": [],
   "source": [
    "def score_func(news_text):\n",
    "\n",
    "    def translate(text):\n",
    "        translator = Translator(service_urls=['translate.google.com'])\n",
    "        translation = translator.translate(text, dest='en').text\n",
    "        return translation\n",
    "\n",
    "    def score(translation):\n",
    "        return afinn.score(translation)\n",
    "\n",
    "    scoring = 0\n",
    "\n",
    "    try:\n",
    "        scoring = score(translate(news_text))\n",
    "    except TypeError:\n",
    "        pass\n",
    "\n",
    "    return scoring\n"
   ]
  },
  {
   "cell_type": "code",
   "execution_count": 82,
   "metadata": {},
   "outputs": [],
   "source": [
    "df['source'] = df['source'].map(channel_source)\n",
    "df['text'] = df['text'].apply(lambda x: x.replace('\\n', ' '))\n",
    "df['date'] = df['date'].dt.tz_localize(None)\n",
    "df['score'] = df['text'].apply(score_func)"
   ]
  },
  {
   "cell_type": "code",
   "execution_count": 95,
   "metadata": {},
   "outputs": [],
   "source": [
    "try:\n",
    "    main_df = pd.read_excel('./TG_news.xlsx', index_col=0)\n",
    "    main_df = pd.concat([main_df, df], axis=0, ignore_index=True)\n",
    "    main_df.drop_duplicates(inplace=True)\n",
    "\n",
    "    with pd.ExcelWriter('./TG_news.xlsx') as writer:\n",
    "        main_df.to_excel(writer, sheet_name='1')\n",
    "\n",
    "except FileNotFoundError:\n",
    "    with pd.ExcelWriter('./TG_news.xlsx') as writer:\n",
    "        df.to_excel(writer, sheet_name='1')"
   ]
  },
  {
   "cell_type": "code",
   "execution_count": null,
   "metadata": {},
   "outputs": [],
   "source": []
  }
 ],
 "metadata": {
  "kernelspec": {
   "display_name": "ds",
   "language": "python",
   "name": "python3"
  },
  "language_info": {
   "codemirror_mode": {
    "name": "ipython",
    "version": 3
   },
   "file_extension": ".py",
   "mimetype": "text/x-python",
   "name": "python",
   "nbconvert_exporter": "python",
   "pygments_lexer": "ipython3",
   "version": "3.11.0"
  },
  "orig_nbformat": 4
 },
 "nbformat": 4,
 "nbformat_minor": 2
}
