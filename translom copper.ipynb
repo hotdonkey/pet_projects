{
 "cells": [
  {
   "cell_type": "code",
   "execution_count": 17,
   "metadata": {},
   "outputs": [],
   "source": [
    "import pandas as pd\n",
    "import requests\n",
    "import datetime as DT\n",
    "\n",
    "# Создаем запрос (можно не трогать границу, файл всегда содержит всю историческую инфу)\n",
    "url = 'https://translom.ru/local/tools/graph/getindex.php?date_from=13.01.2023&date_to=20.01.2023&basis=217%2C217%2C229'\n",
    "request = requests.get(url)\n",
    "\n",
    "# Полученый объект конвертируем в json файл\n",
    "raw_df = request.json()\n",
    "\n",
    "# Из json по ключам и позиции вытаскиваем вложенные списки\n",
    "index_df = raw_df['full_period'][1]['data']\n",
    "\n",
    "# Создаем пустой список для наполнения интересующими данными\n",
    "index_list = []\n",
    "\n",
    "# Циклом добавляем данные в пустой список\n",
    "for i in index_df:\n",
    "    index_list.append(i[1])\n",
    "\n",
    "# Создаем функции для генерации даты с указаными границами и шагом (спасибо StackOverflow)\n",
    "# Функция 1\n",
    "\n",
    "\n",
    "def generate_range_dates(start_date, end_date, day_step) -> list:\n",
    "    date_1 = min(start_date, end_date)\n",
    "    date_2 = max(start_date, end_date)\n",
    "\n",
    "    items = [date_1]\n",
    "\n",
    "    while date_1 < date_2:\n",
    "        date_1 += DT.timedelta(days=day_step)\n",
    "        items.append(date_1)\n",
    "\n",
    "    return items\n",
    "\n",
    "# Функция 2\n",
    "\n",
    "\n",
    "def d2s(date):\n",
    "    return date.strftime(\"%d/%m/%Y\")\n",
    "\n",
    "\n",
    "# Создаем параллельный список с датами\n",
    "start_date = DT.date(2015, 12, 31)  # Можно оттюнить\n",
    "end_date = DT.date(2023, 1, 20)  # И это тоже\n",
    "date_list = []\n",
    "\n",
    "# Этап генерации списка дат\n",
    "items = generate_range_dates(\n",
    "    start_date=start_date, end_date=end_date, day_step=7)\n",
    "\n",
    "for date in items:\n",
    "    date_list.append(date)\n",
    "\n",
    "# Преобразуем в формат даты\n",
    "date_list = pd.to_datetime(date_list)\n",
    "\n",
    "# Создаем датафрейм из 2-х списков (дата и целевой показатель)\n",
    "data = {'date': date_list, 'value': index_list}  # Сначала словарь из списков\n",
    "final_df = pd.DataFrame(data)  # Затем сам df\n",
    "\n",
    "# Пишем в файл (путь оттюнить надо при необходимости)\n",
    "with pd.ExcelWriter('/Users/hotdonkey/Documents/GitHub/data_science_learning/code/pet_project/data/translom_copper.xlsx') as writer:\n",
    "    final_df.to_excel(writer, sheet_name='dynamic')\n"
   ]
  },
  {
   "cell_type": "code",
   "execution_count": null,
   "metadata": {},
   "outputs": [],
   "source": []
  }
 ],
 "metadata": {
  "kernelspec": {
   "display_name": "Python 3",
   "language": "python",
   "name": "python3"
  },
  "language_info": {
   "codemirror_mode": {
    "name": "ipython",
    "version": 3
   },
   "file_extension": ".py",
   "mimetype": "text/x-python",
   "name": "python",
   "nbconvert_exporter": "python",
   "pygments_lexer": "ipython3",
   "version": "3.11.0"
  },
  "orig_nbformat": 4,
  "vscode": {
   "interpreter": {
    "hash": "1a1af0ee75eeea9e2e1ee996c87e7a2b11a0bebd85af04bb136d915cefc0abce"
   }
  }
 },
 "nbformat": 4,
 "nbformat_minor": 2
}
