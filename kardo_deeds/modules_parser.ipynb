{
 "cells": [
  {
   "cell_type": "code",
   "execution_count": null,
   "metadata": {},
   "outputs": [],
   "source": [
    "# Набор библиотек для первичной установки запускается при \n",
    "# первом запуске скрипта, в последующем нет необходимости \n",
    "# запускать данную ячейку\n",
    "!pip install pandas\n",
    "!pip install  requests\n",
    "!pip install datetime\n",
    "!pip install gspread\n",
    "!pip install df2gspread\n",
    "!pip install oauth2client"
   ]
  }
 ],
 "metadata": {
  "language_info": {
   "name": "python"
  },
  "orig_nbformat": 4
 },
 "nbformat": 4,
 "nbformat_minor": 2
}
