{
 "cells": [
  {
   "cell_type": "code",
   "execution_count": 1,
   "metadata": {},
   "outputs": [],
   "source": [
    "import pandas as pd\n",
    "import requests\n",
    "from bs4 import BeautifulSoup\n",
    "from datetime import date\n",
    "#import gspread\n",
    "#from df2gspread import df2gspread as d2g\n",
    "#from oauth2client.service_account import ServiceAccountCredentials"
   ]
  },
  {
   "cell_type": "code",
   "execution_count": 2,
   "metadata": {},
   "outputs": [
    {
     "name": "stdout",
     "output_type": "stream",
     "text": [
      "Parsing is done.\n"
     ]
    }
   ],
   "source": [
    "def get_info():\n",
    "    # Upload function\n",
    "    def google_upload(df, sheet_name):\n",
    "        # Params used to connect to google api\n",
    "        scope = [\n",
    "            'https://spreadsheets.google.com/feeds',\n",
    "            'https://www.googleapis.com/auth/drive']\n",
    "\n",
    "        api_json = ''\n",
    "\n",
    "        credentials = ServiceAccountCredentials.from_json_keyfile_name(\n",
    "            api_json, scope)  # security token\n",
    "        gc = gspread.authorize(credentials)\n",
    "\n",
    "        # Key params for connection to particular document\n",
    "        spreadsheet_key = ''  # document id\n",
    "        wks_name = sheet_name  # sheet name that we use\n",
    "        d2g.upload(df, spreadsheet_key, wks_name, credentials=credentials)\n",
    "        print(f'Uploading to {sheet_name} completed')\n",
    "\n",
    "    # Main action block\n",
    "    # Creating req and bs objects\n",
    "    url = 'https://tradingeconomics.com/bonds'\n",
    "    response = requests.get(url=url, headers={'User-Agent': 'Mozilla/5.0'})\n",
    "    page = BeautifulSoup(response.text, 'html.parser')\n",
    "\n",
    "    # Specify finding params and clearing data\n",
    "    us_data_raw = page.find('tr', attrs={'data-symbol': 'USGG10YR:IND'}).text\n",
    "    us_data = us_data_raw.replace(' ', '').replace('\\r', '').split('\\n')\n",
    "    us_data = [i for i in us_data if i != '']\n",
    "\n",
    "    ru_data_raw = page.find('tr', attrs={'data-symbol': 'RUGE10Y:GOV'}).text\n",
    "    ru_data = ru_data_raw.replace(' ', '').replace('\\r', '').split('\\n')\n",
    "    ru_data = [i for i in ru_data if i != '']\n",
    "\n",
    "    # Creating dataframe row for concatination\n",
    "    us_data_row = pd.DataFrame({\n",
    "        'Major10Y': us_data[0],\n",
    "        'Yield': float(us_data[1]),\n",
    "        'Date': us_data[-1] + f'/{date.today().year}'\n",
    "    }, index=[0])\n",
    "    us_data_row['Date'] = pd.to_datetime(us_data_row['Date'])\n",
    "\n",
    "    ru_data_row = pd.DataFrame({\n",
    "        'Major10Y': ru_data[0],\n",
    "        'Yield': float(ru_data[1]),\n",
    "        'Date': ru_data[-1] + f'/{date.today().year}'\n",
    "    }, index=[0])\n",
    "    ru_data_row['Date'] = pd.to_datetime(ru_data_row['Date'])\n",
    "\n",
    "    # Concat our rows\n",
    "    final_row = pd.concat(\n",
    "        [us_data_row, ru_data_row],\n",
    "        axis=0,\n",
    "        ignore_index=True\n",
    "    )\n",
    "\n",
    "    print(f'Parsing is done.')\n",
    "\n",
    "    # Concat our rows with main dataframe\n",
    "    try:\n",
    "        main_df = pd.read_excel('TE_index.xlsx', index_col=0)\n",
    "        main_df = pd.concat([main_df, final_row], axis=0, ignore_index=True)\n",
    "        main_df.drop_duplicates(inplace=True)\n",
    "\n",
    "        with pd.ExcelWriter('TE_index.xlsx') as writer:\n",
    "            main_df.to_excel(writer, sheet_name='TE_usa_ru')\n",
    "\n",
    "        # google_upload(main_df, 'TE_usa_ru')\n",
    "\n",
    "    except FileNotFoundError:\n",
    "        with pd.ExcelWriter('TE_index.xlsx') as writer:\n",
    "            final_row.to_excel(writer, sheet_name='TE_usa_ru')\n",
    "\n",
    "        # google_upload(final_row, 'TE_usa_ru')\n",
    "\n",
    "    return final_row\n",
    "\n",
    "\n",
    "if __name__ == '__main__':\n",
    "    get_info()\n"
   ]
  },
  {
   "cell_type": "code",
   "execution_count": null,
   "metadata": {},
   "outputs": [],
   "source": []
  }
 ],
 "metadata": {
  "kernelspec": {
   "display_name": "ds",
   "language": "python",
   "name": "python3"
  },
  "language_info": {
   "codemirror_mode": {
    "name": "ipython",
    "version": 3
   },
   "file_extension": ".py",
   "mimetype": "text/x-python",
   "name": "python",
   "nbconvert_exporter": "python",
   "pygments_lexer": "ipython3",
   "version": "3.11.0"
  },
  "orig_nbformat": 4
 },
 "nbformat": 4,
 "nbformat_minor": 2
}
