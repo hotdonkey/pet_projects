{
 "cells": [
  {
   "cell_type": "code",
   "execution_count": 1,
   "metadata": {},
   "outputs": [],
   "source": [
    "from collections import defaultdict, OrderedDict, deque\n",
    "import pandas as pd\n",
    "import numpy as np\n",
    "import matplotlib.pyplot as plt\n",
    "import seaborn as sns\n",
    "import plotly.express as px\n",
    "from scipy.stats import norm\n",
    "from scipy.stats import t"
   ]
  },
  {
   "cell_type": "code",
   "execution_count": 5,
   "metadata": {},
   "outputs": [
    {
     "name": "stdout",
     "output_type": "stream",
     "text": [
      "['a', 'b', 'c', 'd', 'e', 'f', 'g', 'h', 'i', 'j', 'k', 'l', 'm', 'n', 'o', 'p', 'q', 'r', 's', 't', 'u', 'v', 'w', 'x', 'y', 'z']\n",
      "{'a': 0, 'b': 0, 'c': 0, 'd': 0, 'e': 0, 'f': 0, 'g': 0, 'h': 0, 'i': 0, 'j': 0, 'k': 0, 'l': 0, 'm': 0, 'n': 0, 'o': 0, 'p': 0, 'q': 0, 'r': 0, 's': 0, 't': 0, 'u': 0, 'v': 0, 'w': 0, 'x': 0, 'y': 0, 'z': 0}\n",
      "{'a': 0, 'b': 0, 'c': 0, 'd': 0, 'e': 0, 'f': 0, 'g': 0, 'h': 0, 'i': 0, 'j': 0, 'k': 0, 'l': 0, 'm': 0, 'n': 0, 'o': 0, 'p': 0, 'q': 0, 'r': 0, 's': 0, 't': 0, 'u': 0, 'v': 0, 'w': 0, 'x': 0, 'y': 0, 'z': 0}\n"
     ]
    }
   ],
   "source": [
    "#Dict from str\n",
    "\n",
    "alphabet_str = 'abcdefghijklmnopqrstuvwxyz'\n",
    "\n",
    "alphabet_list = [x for x in alphabet_str]    #создаем список из элементов строки\n",
    "alphabet_dict = dict.fromkeys(alphabet_list, 0) #создаем словарь из вышесозданного списка и передаем в качестве значений 0\n",
    "alphabet_dict_2 = {char:0 for char in alphabet_str}\n",
    "\n",
    "print(alphabet_list)\n",
    "print(alphabet_dict)\n",
    "print(alphabet_dict_2)"
   ]
  },
  {
   "cell_type": "code",
   "execution_count": 6,
   "metadata": {},
   "outputs": [
    {
     "data": {
      "text/plain": [
       "{'russian': 2,\n",
       " 'brazilian': 3,\n",
       " 'jamaican': 6,\n",
       " 'moroccan': 9,\n",
       " 'irish': 9,\n",
       " 'vietnamese': 9,\n",
       " 'british': 9,\n",
       " 'filipino': 11,\n",
       " 'spanish': 12,\n",
       " 'greek': 15,\n",
       " 'cajun_creole': 16,\n",
       " 'thai': 17,\n",
       " 'korean': 21,\n",
       " 'japanese': 24,\n",
       " 'french': 25,\n",
       " 'chinese': 39,\n",
       " 'indian': 41,\n",
       " 'southern_us': 52,\n",
       " 'mexican': 79,\n",
       " 'italian': 101}"
      ]
     },
     "execution_count": 6,
     "metadata": {},
     "output_type": "execute_result"
    }
   ],
   "source": [
    "#Sorting dictionarie by value\n",
    "cuisine = {\n",
    "    'filipino': 11, 'moroccan': 9, 'irish': 9,\n",
    "    'mexican': 79, 'italian': 101, 'greek': 15,\n",
    "    'spanish': 12, 'chinese': 39, 'southern_us': 52,\n",
    "    'thai': 17, 'jamaican': 6, 'indian': 41,\n",
    "    'vietnamese': 9, 'korean': 21, 'cajun_creole': 16,\n",
    "    'russian': 2, 'british': 9, 'brazilian': 3,\n",
    "    'japanese': 24, 'french': 25\n",
    "}\n",
    "\n",
    "cuisine = {k: v for k, v in sorted(cuisine.items(), key=lambda item: item[1])}\n",
    "cuisine"
   ]
  },
  {
   "cell_type": "code",
   "execution_count": 7,
   "metadata": {},
   "outputs": [
    {
     "name": "stdout",
     "output_type": "stream",
     "text": [
      "['Milk', 'Milk', 'Beer', 'Chocolate', 'Bread', 'Chips']\n"
     ]
    },
    {
     "data": {
      "text/plain": [
       "[1, 2, 3, 3, 4, 5, 6, 7, 8]"
      ]
     },
     "execution_count": 7,
     "metadata": {},
     "output_type": "execute_result"
    }
   ],
   "source": [
    "#Matrix/list of lists unpack\n",
    "\n",
    "groceries = [['Milk', 'Milk', 'Beer'], ['Chocolate', 'Bread', 'Chips']]\n",
    "groceries_unpacked = [x for x in groceries for x in x]\n",
    "print(groceries_unpacked)\n",
    "\n",
    "matrix = [[1,2,3],[3,4,5],[6,7,8]]\n",
    "matrix_flatten = [x for x in matrix for x in x]\n",
    "matrix_flatten"
   ]
  },
  {
   "cell_type": "code",
   "execution_count": 8,
   "metadata": {},
   "outputs": [
    {
     "name": "stdout",
     "output_type": "stream",
     "text": [
      "OrderedDict([('Old York', 3.3), ('Old Gold', 3.3), ('Old Wine Cellar', 3.3), ('Nice Cakes', 3.9), ('CakeTime', 4.1), ('CakeAndCoffee', 4.2), ('CakeOClock', 4.2), ('Belissimo', 4.5), ('New Age', 4.6), ('General Foods', 4.8), ('WokToWork', 4.9), ('WokAndRice', 4.9)])\n",
      "OrderedDict([('WokToWork', 4.9), ('WokAndRice', 4.9), ('General Foods', 4.8), ('New Age', 4.6), ('Belissimo', 4.5), ('CakeAndCoffee', 4.2), ('CakeOClock', 4.2), ('CakeTime', 4.1), ('Nice Cakes', 3.9), ('Old York', 3.3), ('Old Gold', 3.3), ('Old Wine Cellar', 3.3)])\n",
      "OrderedDict([('Old York', 3.3), ('Old Gold', 3.3), ('Old Wine Cellar', 3.3), ('Nice Cakes', 3.9), ('CakeTime', 4.1), ('CakeAndCoffee', 4.2), ('CakeOClock', 4.2), ('Belissimo', 4.5), ('New Age', 4.6), ('General Foods', 4.8), ('WokToWork', 4.9), ('WokAndRice', 4.9), ('reverse', True)])\n",
      "OrderedDict([('WokToWork', 4.9), ('WokAndRice', 4.9), ('General Foods', 4.8), ('New Age', 4.6), ('Belissimo', 4.5), ('CakeAndCoffee', 4.2), ('CakeOClock', 4.2), ('CakeTime', 4.1), ('Nice Cakes', 3.9), ('Old York', 3.3), ('Old Gold', 3.3), ('Old Wine Cellar', 3.3), ('reverse', True)])\n"
     ]
    }
   ],
   "source": [
    "#Ordered dict sorting\n",
    "\n",
    "ratings = [\n",
    "    ('Old York', 3.3), ('New Age', 4.6), ('Old Gold', 3.3), ('General Foods', 4.8),\n",
    "    ('Belissimo', 4.5), ('CakeAndCoffee', 4.2), ('CakeOClock', 4.2), ('CakeTime', 4.1),\n",
    "    ('WokToWork', 4.9), ('WokAndRice', 4.9), ('Old Wine Cellar', 3.3), ('Nice Cakes', 3.9)\n",
    "]\n",
    "\n",
    "cafes = OrderedDict(sorted(ratings, key=lambda x:x[1]))   #change [1] to [0] for sorting by key\n",
    "print(cafes)\n",
    "\n",
    "cafes = OrderedDict(sorted(ratings, key=lambda x:-x[1]))  #in reverse by key\n",
    "print(cafes)\n",
    "\n",
    "cafes = OrderedDict(sorted(ratings, key=lambda x:x[1]), reverse= True)   #change [1] to [0] for sorting by key\n",
    "print(cafes)\n",
    "\n",
    "cafes = OrderedDict(sorted(ratings, key=lambda x:-x[1]), reverse= True)   #change [1] to [0] for sorting by key\n",
    "print(cafes)"
   ]
  },
  {
   "cell_type": "code",
   "execution_count": 9,
   "metadata": {},
   "outputs": [
    {
     "name": "stdout",
     "output_type": "stream",
     "text": [
      "OrderedDict([('WokAndRice', 4.9), ('WokToWork', 4.9), ('General Foods', 4.8), ('New Age', 4.6), ('Belissimo', 4.5), ('CakeAndCoffee', 4.2), ('CakeOClock', 4.2), ('CakeTime', 4.1), ('Nice Cakes', 3.9), ('Old Gold', 3.3), ('Old Wine Cellar', 3.3), ('Old York', 3.3)])\n"
     ]
    }
   ],
   "source": [
    "#Ordered dict sorting (specific)\n",
    "\n",
    "ratings = [\n",
    "    ('Old York', 3.3), ('New Age', 4.6), ('Old Gold', 3.3), ('General Foods', 4.8),\n",
    "    ('Belissimo', 4.5), ('CakeAndCoffee', 4.2), ('CakeOClock', 4.2), ('CakeTime', 4.1),\n",
    "    ('WokToWork', 4.9), ('WokAndRice', 4.9), ('Old Wine Cellar', 3.3), ('Nice Cakes', 3.9)\n",
    "]\n",
    "\n",
    "ratings.sort(key=lambda x: (-x[1], x[0]))  #cортировка по ключу и значению в кортеже\n",
    "\n",
    "cafes = OrderedDict(ratings)\n",
    "\n",
    "print(cafes)"
   ]
  },
  {
   "cell_type": "code",
   "execution_count": 10,
   "metadata": {},
   "outputs": [
    {
     "data": {
      "text/plain": [
       "[(33850, ['office', False]),\n",
       " (35364, ['voltage', False]),\n",
       " (36871, ['office', False]),\n",
       " (40690, ['office', False]),\n",
       " (41667, ['voltage', True])]"
      ]
     },
     "execution_count": 10,
     "metadata": {},
     "output_type": "execute_result"
    }
   ],
   "source": [
    "#How to create dict from list of tupples with 2 records in value\n",
    "\n",
    "tasks = [\n",
    "    (36871, 'office', False),\n",
    "    (40690, 'office', False),\n",
    "    (35364, 'voltage', False),\n",
    "    (41667, 'voltage', True),\n",
    "    (33850, 'office', False)\n",
    "]\n",
    "\n",
    "tasks_dict = defaultdict(list)\n",
    "for key, value, state in tasks:\n",
    "    tasks_dict[key].append(value)\n",
    "    tasks_dict[key].append(state)\n",
    "\n",
    "sorted(tasks_dict.items())"
   ]
  },
  {
   "cell_type": "code",
   "execution_count": 11,
   "metadata": {},
   "outputs": [
    {
     "data": {
      "text/plain": [
       "9333"
      ]
     },
     "execution_count": 11,
     "metadata": {},
     "output_type": "execute_result"
    }
   ],
   "source": [
    "#How to put dictionaries into the function as arguments\n",
    "\n",
    "district_1 = {'flat_1' : 10500, 'flat_2' : 11000}\n",
    "district_2 = {'flat_3' : 15000}\n",
    "district_3 = {'flat_4' : 6500, 'flat_5' : 7000, 'flat_6' : 6000}\n",
    "\n",
    "def mean_price(*district):\n",
    "    \n",
    "    district_merged = {}\n",
    "    \n",
    "    for item in district:\n",
    "        district_merged.update(item)\n",
    "        \n",
    "    grand_total = sum(district_merged.values())\n",
    "    flat_numbers = district_merged.__len__() #len(district_merged)\n",
    "    \n",
    "    return round(grand_total / flat_numbers)\n",
    "\n",
    "mean_price(district_3, district_2, district_1)"
   ]
  },
  {
   "cell_type": "code",
   "execution_count": 12,
   "metadata": {},
   "outputs": [
    {
     "data": {
      "text/plain": [
       "defaultdict(dict,\n",
       "            {'office': deque([36871, 40690, 33850]),\n",
       "             'voltage': deque([41667, 35364])})"
      ]
     },
     "execution_count": 12,
     "metadata": {},
     "output_type": "execute_result"
    }
   ],
   "source": [
    "#Creating default dict via 3rd parameter\n",
    "\n",
    "tasks = [\n",
    "    (36871, 'office', False),\n",
    "    (40690, 'office', False),\n",
    "    (35364, 'voltage', False),\n",
    "    (41667, 'voltage', True),\n",
    "    (33850, 'office', False)\n",
    "]\n",
    "\n",
    "def task_manager(tasks):\n",
    "    \n",
    "    task_dict = defaultdict(dict)\n",
    "    \n",
    "    for value, key, state in tasks:\n",
    "        if state == True:\n",
    "            task_dict.setdefault(key, deque()).appendleft(value)  #if State is == True thus the priority is higher\n",
    "        else:\n",
    "            task_dict.setdefault(key, deque()).append(value)      #place task after the high priority task\n",
    "            \n",
    "    \n",
    "    return task_dict\n",
    "\n",
    "task_manager(tasks)"
   ]
  },
  {
   "cell_type": "code",
   "execution_count": 13,
   "metadata": {},
   "outputs": [
    {
     "data": {
      "text/plain": [
       "[{'id': 1, 'name': 'Nick'},\n",
       " {'id': 2, 'name': 'Zack'},\n",
       " {'id': 3, 'name': 'Fuck'},\n",
       " {'id': 4, 'name': 'Rick'},\n",
       " {'id': 5, 'name': 'Thich'},\n",
       " {'id': 6, 'name': 'Chick'},\n",
       " {'id': 7, 'name': 'Inch'},\n",
       " {'id': 8, 'name': 'Finch'},\n",
       " {'id': 9, 'name': 'Grinch'}]"
      ]
     },
     "execution_count": 13,
     "metadata": {},
     "output_type": "execute_result"
    }
   ],
   "source": [
    "#How to create custom dict from list of tuples\n",
    "\n",
    "user_list = [\n",
    "    (1, 'Nick'), (2, 'Zack'), (3, 'Fuck'),\n",
    "    (4, 'Rick'), (5, 'Thich'), (6, 'Chick'),\n",
    "    (7, 'Inch'), (8, 'Finch'), (9, 'Grinch')\n",
    "]\n",
    "\n",
    "users = list()\n",
    "\n",
    "for element in user_list:\n",
    "    users.append({'id': element[0], 'name': element[1]})\n",
    "users"
   ]
  },
  {
   "cell_type": "code",
   "execution_count": 14,
   "metadata": {},
   "outputs": [
    {
     "name": "stdout",
     "output_type": "stream",
     "text": [
      "[[0 1 0 1 0 1]\n",
      " [1 0 1 0 1 0]\n",
      " [0 1 0 1 0 1]\n",
      " [1 0 1 0 1 0]\n",
      " [0 1 0 1 0 1]\n",
      " [1 0 1 0 1 0]]\n"
     ]
    }
   ],
   "source": [
    "#Slices in array\n",
    "\n",
    "def get_chess(a):\n",
    "    zeros= np.zeros((a,a), dtype=int)\n",
    "    zeros[1::2,::2]=1\n",
    "    zeros[::2,1::2]=1\n",
    "    return zeros\n",
    "    \n",
    "print(get_chess(6))"
   ]
  },
  {
   "cell_type": "code",
   "execution_count": 15,
   "metadata": {},
   "outputs": [
    {
     "name": "stdout",
     "output_type": "stream",
     "text": [
      "(5.196152422706632, 10.392304845413264)\n"
     ]
    }
   ],
   "source": [
    "#Minimum and maximum distance between vectors\n",
    "\n",
    "def min_max_dist(*vectors):\n",
    "    distance = []\n",
    "    for i in range(len(vectors)):\n",
    "        for j in range(i+1, len(vectors)):\n",
    "            distance += [np.linalg.norm(vectors[i]-vectors[j])]       \n",
    "    return min(distance), max(distance)\n",
    "    \n",
    "vec1 = np.array([1,2,3])\n",
    "vec2 = np.array([4,5,6])\n",
    "vec3 = np.array([7, 8, 9])\n",
    "\n",
    "\n",
    "print(min_max_dist(vec1, vec2, vec3))"
   ]
  },
  {
   "cell_type": "code",
   "execution_count": 16,
   "metadata": {},
   "outputs": [
    {
     "name": "stdout",
     "output_type": "stream",
     "text": [
      "True\n"
     ]
    }
   ],
   "source": [
    "#Scalar product of vectors and finding perpendicular\n",
    "\n",
    "def any_normal(*vectors):\n",
    "    scalar_prod = []\n",
    "    for i in range(len(vectors)):\n",
    "        for j in range(i+1, len(vectors)):\n",
    "            scalar_prod += [np.dot(vectors[i],vectors[j])]       \n",
    "    return 0 in scalar_prod\n",
    "\n",
    "\n",
    "vec1 = np.array([2, 1])\n",
    "vec2 = np.array([-1, 2])\n",
    "vec3 = np.array([3,4])\n",
    "\n",
    "print(any_normal(vec1, vec2, vec3))"
   ]
  },
  {
   "cell_type": "code",
   "execution_count": 1,
   "metadata": {},
   "outputs": [
    {
     "data": {
      "text/plain": [
       "[(0, 1, 2),\n",
       " (0, 1, 3),\n",
       " (0, 1, 4),\n",
       " (0, 1, 5),\n",
       " (0, 1, 6),\n",
       " (0, 1, 7),\n",
       " (0, 1, 8),\n",
       " (0, 1, 9),\n",
       " (0, 2, 3),\n",
       " (0, 2, 4),\n",
       " (0, 2, 5),\n",
       " (0, 2, 6),\n",
       " (0, 2, 7),\n",
       " (0, 2, 8),\n",
       " (0, 2, 9),\n",
       " (0, 3, 4),\n",
       " (0, 3, 5),\n",
       " (0, 3, 6),\n",
       " (0, 3, 7),\n",
       " (0, 3, 8),\n",
       " (0, 3, 9),\n",
       " (0, 4, 5),\n",
       " (0, 4, 6),\n",
       " (0, 4, 7),\n",
       " (0, 4, 8),\n",
       " (0, 4, 9),\n",
       " (0, 5, 6),\n",
       " (0, 5, 7),\n",
       " (0, 5, 8),\n",
       " (0, 5, 9),\n",
       " (0, 6, 7),\n",
       " (0, 6, 8),\n",
       " (0, 6, 9),\n",
       " (0, 7, 8),\n",
       " (0, 7, 9),\n",
       " (0, 8, 9),\n",
       " (1, 2, 3),\n",
       " (1, 2, 4),\n",
       " (1, 2, 5),\n",
       " (1, 2, 6),\n",
       " (1, 2, 7),\n",
       " (1, 2, 8),\n",
       " (1, 2, 9),\n",
       " (1, 3, 4),\n",
       " (1, 3, 5),\n",
       " (1, 3, 6),\n",
       " (1, 3, 7),\n",
       " (1, 3, 8),\n",
       " (1, 3, 9),\n",
       " (1, 4, 5),\n",
       " (1, 4, 6),\n",
       " (1, 4, 7),\n",
       " (1, 4, 8),\n",
       " (1, 4, 9),\n",
       " (1, 5, 6),\n",
       " (1, 5, 7),\n",
       " (1, 5, 8),\n",
       " (1, 5, 9),\n",
       " (1, 6, 7),\n",
       " (1, 6, 8),\n",
       " (1, 6, 9),\n",
       " (1, 7, 8),\n",
       " (1, 7, 9),\n",
       " (1, 8, 9),\n",
       " (2, 3, 4),\n",
       " (2, 3, 5),\n",
       " (2, 3, 6),\n",
       " (2, 3, 7),\n",
       " (2, 3, 8),\n",
       " (2, 3, 9),\n",
       " (2, 4, 5),\n",
       " (2, 4, 6),\n",
       " (2, 4, 7),\n",
       " (2, 4, 8),\n",
       " (2, 4, 9),\n",
       " (2, 5, 6),\n",
       " (2, 5, 7),\n",
       " (2, 5, 8),\n",
       " (2, 5, 9),\n",
       " (2, 6, 7),\n",
       " (2, 6, 8),\n",
       " (2, 6, 9),\n",
       " (2, 7, 8),\n",
       " (2, 7, 9),\n",
       " (2, 8, 9),\n",
       " (3, 4, 5),\n",
       " (3, 4, 6),\n",
       " (3, 4, 7),\n",
       " (3, 4, 8),\n",
       " (3, 4, 9),\n",
       " (3, 5, 6),\n",
       " (3, 5, 7),\n",
       " (3, 5, 8),\n",
       " (3, 5, 9),\n",
       " (3, 6, 7),\n",
       " (3, 6, 8),\n",
       " (3, 6, 9),\n",
       " (3, 7, 8),\n",
       " (3, 7, 9),\n",
       " (3, 8, 9),\n",
       " (4, 5, 6),\n",
       " (4, 5, 7),\n",
       " (4, 5, 8),\n",
       " (4, 5, 9),\n",
       " (4, 6, 7),\n",
       " (4, 6, 8),\n",
       " (4, 6, 9),\n",
       " (4, 7, 8),\n",
       " (4, 7, 9),\n",
       " (4, 8, 9),\n",
       " (5, 6, 7),\n",
       " (5, 6, 8),\n",
       " (5, 6, 9),\n",
       " (5, 7, 8),\n",
       " (5, 7, 9),\n",
       " (5, 8, 9),\n",
       " (6, 7, 8),\n",
       " (6, 7, 9),\n",
       " (6, 8, 9),\n",
       " (7, 8, 9)]"
      ]
     },
     "execution_count": 1,
     "metadata": {},
     "output_type": "execute_result"
    }
   ],
   "source": [
    "#Finding all combinations\n",
    "import itertools\n",
    "list_= [i for i in range(10)]\n",
    "list_combinations = [i for i in itertools.combinations(list_, 3)]\n",
    "list_combinations"
   ]
  },
  {
   "attachments": {},
   "cell_type": "markdown",
   "metadata": {},
   "source": [
    "---"
   ]
  },
  {
   "attachments": {},
   "cell_type": "markdown",
   "metadata": {},
   "source": [
    "#### Построение доверительного интервала"
   ]
  },
  {
   "cell_type": "code",
   "execution_count": 2,
   "metadata": {},
   "outputs": [],
   "source": [
    "#При известном истинном стандартном отклонении\n",
    "def confidence_interval_sigma(n, x_mean, sigma, gamma):\n",
    "    \"\"\"Function to evaluate confidence interval with known true standard deviation\n",
    "\n",
    "    Args:\n",
    "        n (int): sample size\n",
    "        x_mean (int): sample mean\n",
    "        sigma (int): true standard deviation\n",
    "        gamma (float): reliability level 0-1\n",
    "\n",
    "    Returns:\n",
    "        float: lower_bound, upper_bound\n",
    "    \"\"\"\n",
    "    alpha = 1 - gamma # уровень значимости\n",
    "\n",
    "    z_crit = round(-norm.ppf(alpha/2),2) # z критическое\n",
    "\n",
    "    eps = z_crit * sigma/(n ** 0.5) #погрешность\n",
    "    lower_bound = round(x_mean - eps,2) # левая (нижняя) граница\n",
    "    upper_bound = round(x_mean + eps,2) # правая (верхняя) граница\n",
    "    confidence_interval = (lower_bound, upper_bound) # создаём кортеж из округлённых границ интервала\n",
    "    print(f'Доверительный интервал: {lower_bound, upper_bound}, z-крит: {z_crit}') # выводим результат\n",
    "    return lower_bound, upper_bound, z_crit"
   ]
  },
  {
   "cell_type": "code",
   "execution_count": 4,
   "metadata": {},
   "outputs": [],
   "source": [
    "#При известном истинном стандартном отклонении\n",
    "def confidence_interval():\n",
    "    pass"
   ]
  },
  {
   "cell_type": "code",
   "execution_count": null,
   "metadata": {},
   "outputs": [],
   "source": []
  }
 ],
 "metadata": {
  "kernelspec": {
   "display_name": "Python 3.11.0 64-bit",
   "language": "python",
   "name": "python3"
  },
  "language_info": {
   "codemirror_mode": {
    "name": "ipython",
    "version": 3
   },
   "file_extension": ".py",
   "mimetype": "text/x-python",
   "name": "python",
   "nbconvert_exporter": "python",
   "pygments_lexer": "ipython3",
   "version": "3.10.9"
  },
  "orig_nbformat": 4,
  "vscode": {
   "interpreter": {
    "hash": "aee8b7b246df8f9039afb4144a1f6fd8d2ca17a180786b69acc140d282b71a49"
   }
  }
 },
 "nbformat": 4,
 "nbformat_minor": 2
}
